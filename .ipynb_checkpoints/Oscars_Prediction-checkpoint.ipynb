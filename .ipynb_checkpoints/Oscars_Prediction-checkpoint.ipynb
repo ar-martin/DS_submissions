{
 "cells": [
  {
   "cell_type": "code",
   "execution_count": 1,
   "metadata": {},
   "outputs": [],
   "source": [
    "import pandas as pd\n",
    "import numpy as np"
   ]
  },
  {
   "cell_type": "code",
   "execution_count": 2,
   "metadata": {},
   "outputs": [],
   "source": [
    "oscars = pd.read_csv('Oscars.csv')"
   ]
  },
  {
   "cell_type": "code",
   "execution_count": 3,
   "metadata": {},
   "outputs": [
    {
     "data": {
      "text/html": [
       "<div>\n",
       "<style scoped>\n",
       "    .dataframe tbody tr th:only-of-type {\n",
       "        vertical-align: middle;\n",
       "    }\n",
       "\n",
       "    .dataframe tbody tr th {\n",
       "        vertical-align: top;\n",
       "    }\n",
       "\n",
       "    .dataframe thead th {\n",
       "        text-align: right;\n",
       "    }\n",
       "</style>\n",
       "<table border=\"1\" class=\"dataframe\">\n",
       "  <thead>\n",
       "    <tr style=\"text-align: right;\">\n",
       "      <th></th>\n",
       "      <th>Year</th>\n",
       "      <th>Ceremony</th>\n",
       "      <th>Winner</th>\n",
       "      <th>Name</th>\n",
       "      <th>ID</th>\n",
       "      <th>Runtime</th>\n",
       "      <th>IMDB_Rating</th>\n",
       "      <th>Genre</th>\n",
       "      <th>MPAA_Rating</th>\n",
       "      <th>Release_Month</th>\n",
       "      <th>...</th>\n",
       "      <th>Horror</th>\n",
       "      <th>Music</th>\n",
       "      <th>Musical</th>\n",
       "      <th>Mystery</th>\n",
       "      <th>Romance</th>\n",
       "      <th>Sci-Fi</th>\n",
       "      <th>Sport</th>\n",
       "      <th>Thriller</th>\n",
       "      <th>War</th>\n",
       "      <th>Western</th>\n",
       "    </tr>\n",
       "  </thead>\n",
       "  <tbody>\n",
       "    <tr>\n",
       "      <th>0</th>\n",
       "      <td>2018</td>\n",
       "      <td>91</td>\n",
       "      <td>0</td>\n",
       "      <td>A Star Is Born</td>\n",
       "      <td>1517451</td>\n",
       "      <td>136</td>\n",
       "      <td>7.8</td>\n",
       "      <td>Drama, Music, Romance</td>\n",
       "      <td>R</td>\n",
       "      <td>5</td>\n",
       "      <td>...</td>\n",
       "      <td>0</td>\n",
       "      <td>1</td>\n",
       "      <td>0</td>\n",
       "      <td>0</td>\n",
       "      <td>1</td>\n",
       "      <td>0</td>\n",
       "      <td>0</td>\n",
       "      <td>0</td>\n",
       "      <td>0</td>\n",
       "      <td>0</td>\n",
       "    </tr>\n",
       "    <tr>\n",
       "      <th>1</th>\n",
       "      <td>2018</td>\n",
       "      <td>91</td>\n",
       "      <td>0</td>\n",
       "      <td>Black Panther</td>\n",
       "      <td>1825683</td>\n",
       "      <td>134</td>\n",
       "      <td>7.3</td>\n",
       "      <td>Action, Adventure, Sci-Fi</td>\n",
       "      <td>PG-13</td>\n",
       "      <td>2</td>\n",
       "      <td>...</td>\n",
       "      <td>0</td>\n",
       "      <td>0</td>\n",
       "      <td>0</td>\n",
       "      <td>0</td>\n",
       "      <td>0</td>\n",
       "      <td>1</td>\n",
       "      <td>0</td>\n",
       "      <td>0</td>\n",
       "      <td>0</td>\n",
       "      <td>0</td>\n",
       "    </tr>\n",
       "    <tr>\n",
       "      <th>2</th>\n",
       "      <td>2018</td>\n",
       "      <td>91</td>\n",
       "      <td>0</td>\n",
       "      <td>BlacKkKlansman</td>\n",
       "      <td>7349662</td>\n",
       "      <td>135</td>\n",
       "      <td>7.5</td>\n",
       "      <td>Biography, Crime, Drama</td>\n",
       "      <td>R</td>\n",
       "      <td>10</td>\n",
       "      <td>...</td>\n",
       "      <td>0</td>\n",
       "      <td>0</td>\n",
       "      <td>0</td>\n",
       "      <td>0</td>\n",
       "      <td>0</td>\n",
       "      <td>0</td>\n",
       "      <td>0</td>\n",
       "      <td>0</td>\n",
       "      <td>0</td>\n",
       "      <td>0</td>\n",
       "    </tr>\n",
       "    <tr>\n",
       "      <th>3</th>\n",
       "      <td>2018</td>\n",
       "      <td>91</td>\n",
       "      <td>0</td>\n",
       "      <td>Bohemian Rhapsody</td>\n",
       "      <td>1727824</td>\n",
       "      <td>134</td>\n",
       "      <td>8.1</td>\n",
       "      <td>Biography, Drama, Music</td>\n",
       "      <td>PG-13</td>\n",
       "      <td>2</td>\n",
       "      <td>...</td>\n",
       "      <td>0</td>\n",
       "      <td>1</td>\n",
       "      <td>0</td>\n",
       "      <td>0</td>\n",
       "      <td>0</td>\n",
       "      <td>0</td>\n",
       "      <td>0</td>\n",
       "      <td>0</td>\n",
       "      <td>0</td>\n",
       "      <td>0</td>\n",
       "    </tr>\n",
       "    <tr>\n",
       "      <th>4</th>\n",
       "      <td>2018</td>\n",
       "      <td>91</td>\n",
       "      <td>1</td>\n",
       "      <td>Green Book</td>\n",
       "      <td>6966692</td>\n",
       "      <td>130</td>\n",
       "      <td>8.3</td>\n",
       "      <td>Biography, Comedy, Drama, Music</td>\n",
       "      <td>PG-13</td>\n",
       "      <td>11</td>\n",
       "      <td>...</td>\n",
       "      <td>0</td>\n",
       "      <td>1</td>\n",
       "      <td>0</td>\n",
       "      <td>0</td>\n",
       "      <td>0</td>\n",
       "      <td>0</td>\n",
       "      <td>0</td>\n",
       "      <td>0</td>\n",
       "      <td>0</td>\n",
       "      <td>0</td>\n",
       "    </tr>\n",
       "    <tr>\n",
       "      <th>5</th>\n",
       "      <td>2018</td>\n",
       "      <td>91</td>\n",
       "      <td>0</td>\n",
       "      <td>Roma</td>\n",
       "      <td>6155172</td>\n",
       "      <td>135</td>\n",
       "      <td>7.8</td>\n",
       "      <td>Drama</td>\n",
       "      <td>R</td>\n",
       "      <td>11</td>\n",
       "      <td>...</td>\n",
       "      <td>0</td>\n",
       "      <td>0</td>\n",
       "      <td>0</td>\n",
       "      <td>0</td>\n",
       "      <td>0</td>\n",
       "      <td>0</td>\n",
       "      <td>0</td>\n",
       "      <td>0</td>\n",
       "      <td>0</td>\n",
       "      <td>0</td>\n",
       "    </tr>\n",
       "    <tr>\n",
       "      <th>6</th>\n",
       "      <td>2018</td>\n",
       "      <td>91</td>\n",
       "      <td>0</td>\n",
       "      <td>The Favourite</td>\n",
       "      <td>5083738</td>\n",
       "      <td>119</td>\n",
       "      <td>7.7</td>\n",
       "      <td>Biography, Comedy, Drama, History</td>\n",
       "      <td>R</td>\n",
       "      <td>11</td>\n",
       "      <td>...</td>\n",
       "      <td>0</td>\n",
       "      <td>0</td>\n",
       "      <td>0</td>\n",
       "      <td>0</td>\n",
       "      <td>0</td>\n",
       "      <td>0</td>\n",
       "      <td>0</td>\n",
       "      <td>0</td>\n",
       "      <td>0</td>\n",
       "      <td>0</td>\n",
       "    </tr>\n",
       "    <tr>\n",
       "      <th>7</th>\n",
       "      <td>2018</td>\n",
       "      <td>91</td>\n",
       "      <td>0</td>\n",
       "      <td>Vice</td>\n",
       "      <td>6266538</td>\n",
       "      <td>132</td>\n",
       "      <td>7.2</td>\n",
       "      <td>Biography, Comedy, Drama</td>\n",
       "      <td>R</td>\n",
       "      <td>12</td>\n",
       "      <td>...</td>\n",
       "      <td>0</td>\n",
       "      <td>0</td>\n",
       "      <td>0</td>\n",
       "      <td>0</td>\n",
       "      <td>0</td>\n",
       "      <td>0</td>\n",
       "      <td>0</td>\n",
       "      <td>0</td>\n",
       "      <td>0</td>\n",
       "      <td>0</td>\n",
       "    </tr>\n",
       "    <tr>\n",
       "      <th>8</th>\n",
       "      <td>2017</td>\n",
       "      <td>90</td>\n",
       "      <td>0</td>\n",
       "      <td>Call Me by Your Name</td>\n",
       "      <td>5726616</td>\n",
       "      <td>132</td>\n",
       "      <td>7.9</td>\n",
       "      <td>Drama, Romance</td>\n",
       "      <td>R</td>\n",
       "      <td>11</td>\n",
       "      <td>...</td>\n",
       "      <td>0</td>\n",
       "      <td>0</td>\n",
       "      <td>0</td>\n",
       "      <td>0</td>\n",
       "      <td>1</td>\n",
       "      <td>0</td>\n",
       "      <td>0</td>\n",
       "      <td>0</td>\n",
       "      <td>0</td>\n",
       "      <td>0</td>\n",
       "    </tr>\n",
       "    <tr>\n",
       "      <th>9</th>\n",
       "      <td>2017</td>\n",
       "      <td>90</td>\n",
       "      <td>0</td>\n",
       "      <td>Darkest Hour</td>\n",
       "      <td>4555426</td>\n",
       "      <td>125</td>\n",
       "      <td>7.4</td>\n",
       "      <td>Biography, Drama, History, War</td>\n",
       "      <td>PG-13</td>\n",
       "      <td>11</td>\n",
       "      <td>...</td>\n",
       "      <td>0</td>\n",
       "      <td>0</td>\n",
       "      <td>0</td>\n",
       "      <td>0</td>\n",
       "      <td>0</td>\n",
       "      <td>0</td>\n",
       "      <td>0</td>\n",
       "      <td>0</td>\n",
       "      <td>1</td>\n",
       "      <td>0</td>\n",
       "    </tr>\n",
       "  </tbody>\n",
       "</table>\n",
       "<p>10 rows × 34 columns</p>\n",
       "</div>"
      ],
      "text/plain": [
       "   Year  Ceremony  Winner                  Name       ID  Runtime  \\\n",
       "0  2018        91       0        A Star Is Born  1517451      136   \n",
       "1  2018        91       0         Black Panther  1825683      134   \n",
       "2  2018        91       0        BlacKkKlansman  7349662      135   \n",
       "3  2018        91       0     Bohemian Rhapsody  1727824      134   \n",
       "4  2018        91       1            Green Book  6966692      130   \n",
       "5  2018        91       0                  Roma  6155172      135   \n",
       "6  2018        91       0         The Favourite  5083738      119   \n",
       "7  2018        91       0                  Vice  6266538      132   \n",
       "8  2017        90       0  Call Me by Your Name  5726616      132   \n",
       "9  2017        90       0          Darkest Hour  4555426      125   \n",
       "\n",
       "   IMDB_Rating                                Genre MPAA_Rating  \\\n",
       "0          7.8               Drama, Music, Romance            R   \n",
       "1          7.3           Action, Adventure, Sci-Fi        PG-13   \n",
       "2          7.5             Biography, Crime, Drama            R   \n",
       "3          8.1             Biography, Drama, Music        PG-13   \n",
       "4          8.3     Biography, Comedy, Drama, Music        PG-13   \n",
       "5          7.8                               Drama            R   \n",
       "6          7.7   Biography, Comedy, Drama, History            R   \n",
       "7          7.2            Biography, Comedy, Drama            R   \n",
       "8          7.9                      Drama, Romance            R   \n",
       "9          7.4      Biography, Drama, History, War        PG-13   \n",
       "\n",
       "   Release_Month  ...  Horror Music  Musical Mystery  Romance  Sci-Fi  Sport  \\\n",
       "0              5  ...       0     1        0       0        1       0      0   \n",
       "1              2  ...       0     0        0       0        0       1      0   \n",
       "2             10  ...       0     0        0       0        0       0      0   \n",
       "3              2  ...       0     1        0       0        0       0      0   \n",
       "4             11  ...       0     1        0       0        0       0      0   \n",
       "5             11  ...       0     0        0       0        0       0      0   \n",
       "6             11  ...       0     0        0       0        0       0      0   \n",
       "7             12  ...       0     0        0       0        0       0      0   \n",
       "8             11  ...       0     0        0       0        1       0      0   \n",
       "9             11  ...       0     0        0       0        0       0      0   \n",
       "\n",
       "   Thriller  War  Western  \n",
       "0         0    0        0  \n",
       "1         0    0        0  \n",
       "2         0    0        0  \n",
       "3         0    0        0  \n",
       "4         0    0        0  \n",
       "5         0    0        0  \n",
       "6         0    0        0  \n",
       "7         0    0        0  \n",
       "8         0    0        0  \n",
       "9         0    1        0  \n",
       "\n",
       "[10 rows x 34 columns]"
      ]
     },
     "execution_count": 3,
     "metadata": {},
     "output_type": "execute_result"
    }
   ],
   "source": [
    "oscars.head(10)"
   ]
  },
  {
   "cell_type": "code",
   "execution_count": 4,
   "metadata": {},
   "outputs": [],
   "source": [
    "import seaborn as sns\n",
    "import matplotlib.pyplot as plt\n",
    "%matplotlib inline\n",
    "\n",
    "sns.set(style=\"ticks\", color_codes=True)"
   ]
  },
  {
   "cell_type": "code",
   "execution_count": 5,
   "metadata": {},
   "outputs": [],
   "source": [
    "#oscars.drop(columns = ['Ceremony' , 'ID' , 'MPAA_Rating'] , inplace = True)"
   ]
  },
  {
   "cell_type": "code",
   "execution_count": 6,
   "metadata": {},
   "outputs": [
    {
     "data": {
      "text/html": [
       "<div>\n",
       "<style scoped>\n",
       "    .dataframe tbody tr th:only-of-type {\n",
       "        vertical-align: middle;\n",
       "    }\n",
       "\n",
       "    .dataframe tbody tr th {\n",
       "        vertical-align: top;\n",
       "    }\n",
       "\n",
       "    .dataframe thead th {\n",
       "        text-align: right;\n",
       "    }\n",
       "</style>\n",
       "<table border=\"1\" class=\"dataframe\">\n",
       "  <thead>\n",
       "    <tr style=\"text-align: right;\">\n",
       "      <th></th>\n",
       "      <th>Year</th>\n",
       "      <th>Ceremony</th>\n",
       "      <th>Winner</th>\n",
       "      <th>Name</th>\n",
       "      <th>ID</th>\n",
       "      <th>Runtime</th>\n",
       "      <th>IMDB_Rating</th>\n",
       "      <th>Genre</th>\n",
       "      <th>MPAA_Rating</th>\n",
       "      <th>Release_Month</th>\n",
       "      <th>...</th>\n",
       "      <th>Horror</th>\n",
       "      <th>Music</th>\n",
       "      <th>Musical</th>\n",
       "      <th>Mystery</th>\n",
       "      <th>Romance</th>\n",
       "      <th>Sci-Fi</th>\n",
       "      <th>Sport</th>\n",
       "      <th>Thriller</th>\n",
       "      <th>War</th>\n",
       "      <th>Western</th>\n",
       "    </tr>\n",
       "  </thead>\n",
       "  <tbody>\n",
       "    <tr>\n",
       "      <th>0</th>\n",
       "      <td>2018</td>\n",
       "      <td>91</td>\n",
       "      <td>0</td>\n",
       "      <td>A Star Is Born</td>\n",
       "      <td>1517451</td>\n",
       "      <td>136</td>\n",
       "      <td>7.8</td>\n",
       "      <td>Drama, Music, Romance</td>\n",
       "      <td>R</td>\n",
       "      <td>5</td>\n",
       "      <td>...</td>\n",
       "      <td>0</td>\n",
       "      <td>1</td>\n",
       "      <td>0</td>\n",
       "      <td>0</td>\n",
       "      <td>1</td>\n",
       "      <td>0</td>\n",
       "      <td>0</td>\n",
       "      <td>0</td>\n",
       "      <td>0</td>\n",
       "      <td>0</td>\n",
       "    </tr>\n",
       "    <tr>\n",
       "      <th>1</th>\n",
       "      <td>2018</td>\n",
       "      <td>91</td>\n",
       "      <td>0</td>\n",
       "      <td>Black Panther</td>\n",
       "      <td>1825683</td>\n",
       "      <td>134</td>\n",
       "      <td>7.3</td>\n",
       "      <td>Action, Adventure, Sci-Fi</td>\n",
       "      <td>PG-13</td>\n",
       "      <td>2</td>\n",
       "      <td>...</td>\n",
       "      <td>0</td>\n",
       "      <td>0</td>\n",
       "      <td>0</td>\n",
       "      <td>0</td>\n",
       "      <td>0</td>\n",
       "      <td>1</td>\n",
       "      <td>0</td>\n",
       "      <td>0</td>\n",
       "      <td>0</td>\n",
       "      <td>0</td>\n",
       "    </tr>\n",
       "    <tr>\n",
       "      <th>2</th>\n",
       "      <td>2018</td>\n",
       "      <td>91</td>\n",
       "      <td>0</td>\n",
       "      <td>BlacKkKlansman</td>\n",
       "      <td>7349662</td>\n",
       "      <td>135</td>\n",
       "      <td>7.5</td>\n",
       "      <td>Biography, Crime, Drama</td>\n",
       "      <td>R</td>\n",
       "      <td>10</td>\n",
       "      <td>...</td>\n",
       "      <td>0</td>\n",
       "      <td>0</td>\n",
       "      <td>0</td>\n",
       "      <td>0</td>\n",
       "      <td>0</td>\n",
       "      <td>0</td>\n",
       "      <td>0</td>\n",
       "      <td>0</td>\n",
       "      <td>0</td>\n",
       "      <td>0</td>\n",
       "    </tr>\n",
       "    <tr>\n",
       "      <th>3</th>\n",
       "      <td>2018</td>\n",
       "      <td>91</td>\n",
       "      <td>0</td>\n",
       "      <td>Bohemian Rhapsody</td>\n",
       "      <td>1727824</td>\n",
       "      <td>134</td>\n",
       "      <td>8.1</td>\n",
       "      <td>Biography, Drama, Music</td>\n",
       "      <td>PG-13</td>\n",
       "      <td>2</td>\n",
       "      <td>...</td>\n",
       "      <td>0</td>\n",
       "      <td>1</td>\n",
       "      <td>0</td>\n",
       "      <td>0</td>\n",
       "      <td>0</td>\n",
       "      <td>0</td>\n",
       "      <td>0</td>\n",
       "      <td>0</td>\n",
       "      <td>0</td>\n",
       "      <td>0</td>\n",
       "    </tr>\n",
       "    <tr>\n",
       "      <th>4</th>\n",
       "      <td>2018</td>\n",
       "      <td>91</td>\n",
       "      <td>1</td>\n",
       "      <td>Green Book</td>\n",
       "      <td>6966692</td>\n",
       "      <td>130</td>\n",
       "      <td>8.3</td>\n",
       "      <td>Biography, Comedy, Drama, Music</td>\n",
       "      <td>PG-13</td>\n",
       "      <td>11</td>\n",
       "      <td>...</td>\n",
       "      <td>0</td>\n",
       "      <td>1</td>\n",
       "      <td>0</td>\n",
       "      <td>0</td>\n",
       "      <td>0</td>\n",
       "      <td>0</td>\n",
       "      <td>0</td>\n",
       "      <td>0</td>\n",
       "      <td>0</td>\n",
       "      <td>0</td>\n",
       "    </tr>\n",
       "  </tbody>\n",
       "</table>\n",
       "<p>5 rows × 34 columns</p>\n",
       "</div>"
      ],
      "text/plain": [
       "   Year  Ceremony  Winner               Name       ID  Runtime  IMDB_Rating  \\\n",
       "0  2018        91       0     A Star Is Born  1517451      136          7.8   \n",
       "1  2018        91       0      Black Panther  1825683      134          7.3   \n",
       "2  2018        91       0     BlacKkKlansman  7349662      135          7.5   \n",
       "3  2018        91       0  Bohemian Rhapsody  1727824      134          8.1   \n",
       "4  2018        91       1         Green Book  6966692      130          8.3   \n",
       "\n",
       "                               Genre MPAA_Rating  Release_Month  ...  Horror  \\\n",
       "0             Drama, Music, Romance            R              5  ...       0   \n",
       "1         Action, Adventure, Sci-Fi        PG-13              2  ...       0   \n",
       "2           Biography, Crime, Drama            R             10  ...       0   \n",
       "3           Biography, Drama, Music        PG-13              2  ...       0   \n",
       "4   Biography, Comedy, Drama, Music        PG-13             11  ...       0   \n",
       "\n",
       "  Music  Musical Mystery  Romance  Sci-Fi  Sport  Thriller  War  Western  \n",
       "0     1        0       0        1       0      0         0    0        0  \n",
       "1     0        0       0        0       1      0         0    0        0  \n",
       "2     0        0       0        0       0      0         0    0        0  \n",
       "3     1        0       0        0       0      0         0    0        0  \n",
       "4     1        0       0        0       0      0         0    0        0  \n",
       "\n",
       "[5 rows x 34 columns]"
      ]
     },
     "execution_count": 6,
     "metadata": {},
     "output_type": "execute_result"
    }
   ],
   "source": [
    "oscars.head()"
   ]
  },
  {
   "cell_type": "code",
   "execution_count": 7,
   "metadata": {},
   "outputs": [
    {
     "data": {
      "text/plain": [
       "<seaborn.axisgrid.FacetGrid at 0x1f31db91908>"
      ]
     },
     "execution_count": 7,
     "metadata": {},
     "output_type": "execute_result"
    },
    {
     "data": {
      "image/png": "[encoded data removed]",
      "text/plain": [
       "<Figure size 720x720 with 1 Axes>"
      ]
     },
     "metadata": {
      "needs_background": "light"
     },
     "output_type": "display_data"
    }
   ],
   "source": [
    "sns.catplot(x= 'Winner' , y ='IMDB_Rating' ,kind = 'swarm' ,data = oscars , height =10 )"
   ]
  },
  {
   "cell_type": "code",
   "execution_count": 8,
   "metadata": {},
   "outputs": [
    {
     "data": {
      "text/plain": [
       "<seaborn.axisgrid.FacetGrid at 0x1f31e6f0940>"
      ]
     },
     "execution_count": 8,
     "metadata": {},
     "output_type": "execute_result"
    },
    {
     "data": {
      "image/png": "[encoded data removed]",
      "text/plain": [
       "<Figure size 720x720 with 1 Axes>"
      ]
     },
     "metadata": {
      "needs_background": "light"
     },
     "output_type": "display_data"
    }
   ],
   "source": [
    "sns.catplot(x= 'Winner' , y ='Runtime' ,kind = 'swarm' ,data = oscars , height =10 )"
   ]
  },
  {
   "cell_type": "code",
   "execution_count": 9,
   "metadata": {},
   "outputs": [
    {
     "data": {
      "text/plain": [
       "<seaborn.axisgrid.FacetGrid at 0x1f31e6f0a90>"
      ]
     },
     "execution_count": 9,
     "metadata": {},
     "output_type": "execute_result"
    },
    {
     "data": {
      "image/png": "[encoded data removed]",
      "text/plain": [
       "<Figure size 720x720 with 1 Axes>"
      ]
     },
     "metadata": {
      "needs_background": "light"
     },
     "output_type": "display_data"
    }
   ],
   "source": [
    "sns.catplot(x= 'Winner' , y ='Total_nominations', kind = 'swarm'  ,data = oscars , height =10 )"
   ]
  },
  {
   "cell_type": "code",
   "execution_count": 10,
   "metadata": {},
   "outputs": [
    {
     "data": {
      "text/plain": [
       "<seaborn.axisgrid.FacetGrid at 0x1f31fb8a470>"
      ]
     },
     "execution_count": 10,
     "metadata": {},
     "output_type": "execute_result"
    },
    {
     "data": {
      "image/png": "[encoded data removed]",
      "text/plain": [
       "<Figure size 720x720 with 1 Axes>"
      ]
     },
     "metadata": {
      "needs_background": "light"
     },
     "output_type": "display_data"
    }
   ],
   "source": [
    "sns.catplot(x= 'Winner' , y ='MPAA_Rating', kind = 'swarm'  ,data = oscars , height =10 )"
   ]
  },
  {
   "cell_type": "code",
   "execution_count": 11,
   "metadata": {},
   "outputs": [
    {
     "data": {
      "text/plain": [
       "<seaborn.axisgrid.FacetGrid at 0x1f320206a20>"
      ]
     },
     "execution_count": 11,
     "metadata": {},
     "output_type": "execute_result"
    },
    {
     "data": {
      "image/png": "[encoded data removed]",
      "text/plain": [
       "<Figure size 720x720 with 1 Axes>"
      ]
     },
     "metadata": {
      "needs_background": "light"
     },
     "output_type": "display_data"
    }
   ],
   "source": [
    "sns.catplot(x= 'Winner' , y ='Release_Month', kind = 'swarm'  ,data = oscars , height =10)"
   ]
  },
  {
   "cell_type": "code",
   "execution_count": 12,
   "metadata": {},
   "outputs": [
    {
     "data": {
      "text/plain": [
       "<seaborn.axisgrid.FacetGrid at 0x1f3206a19e8>"
      ]
     },
     "execution_count": 12,
     "metadata": {},
     "output_type": "execute_result"
    },
    {
     "data": {
      "image/png": "[encoded data removed]",
      "text/plain": [
       "<Figure size 720x720 with 1 Axes>"
      ]
     },
     "metadata": {
      "needs_background": "light"
     },
     "output_type": "display_data"
    }
   ],
   "source": [
    "sns.catplot(x= 'Winner' , y ='Pre_Nom_Gross', kind = 'swarm'  ,data = oscars , height =10)"
   ]
  },
  {
   "cell_type": "code",
   "execution_count": 13,
   "metadata": {},
   "outputs": [
    {
     "data": {
      "text/plain": [
       "Index(['Year', 'Ceremony', 'Winner', 'Name', 'ID', 'Runtime', 'IMDB_Rating',\n",
       "       'Genre', 'MPAA_Rating', 'Release_Month', 'Pre_Nom_Gross', 'Studio',\n",
       "       'Total_nominations', 'Director', 'Action', 'Adventure', 'Animation',\n",
       "       'Biography', 'Comedy', 'Crime', 'Drama', 'Family', 'Fantasy', 'History',\n",
       "       'Horror', 'Music', 'Musical', 'Mystery', 'Romance', 'Sci-Fi', 'Sport',\n",
       "       'Thriller', 'War', 'Western'],\n",
       "      dtype='object')"
      ]
     },
     "execution_count": 13,
     "metadata": {},
     "output_type": "execute_result"
    }
   ],
   "source": [
    "oscars.columns"
   ]
  },
  {
   "cell_type": "code",
   "execution_count": 14,
   "metadata": {},
   "outputs": [
    {
     "data": {
      "text/plain": [
       "Spielberg, Steven         7\n",
       "Scorsese, Martin          6\n",
       "Eastwood, Clint           5\n",
       "Lee, Ang                  4\n",
       "Coen Brothers             4\n",
       "Daldry, Stephen           3\n",
       "Russell, David O.         3\n",
       "Iñárritu, Alejandro G.    3\n",
       "Payne, Alexander          3\n",
       "Howard, Ron               3\n",
       "Jackson, Peter            3\n",
       "Tarantino, Quentin        3\n",
       "Darabont, Frank           2\n",
       "Hallström, Lasse          2\n",
       "Cameron, James            2\n",
       "Miller, Bennett           2\n",
       "Frears, Stephen           2\n",
       "Nolan, Christopher        2\n",
       "Anderson, Paul Thomas     2\n",
       "Scott, Ridley             2\n",
       "Boyle, Danny              2\n",
       "McKay, Adam               2\n",
       "Gibson, Mel               2\n",
       "Bigelow, Kathryn          2\n",
       "Soderbergh, Steven        2\n",
       "Van Sant, Gus             2\n",
       "Ivory, James              2\n",
       "Chazelle, Damien          2\n",
       "Reitman, Jason            2\n",
       "Malick, Terrence          2\n",
       "                         ..\n",
       "Noonan, Chris             1\n",
       "Gilroy, Tony              1\n",
       "Clooney, George           1\n",
       "Guadagnino, Luca          1\n",
       "Jordan, Neil              1\n",
       "Taylor, Tate              1\n",
       "Mackenzie, David          1\n",
       "Luhrmann, Baz             1\n",
       "Zemeckis, Robert          1\n",
       "Haggis, Paul              1\n",
       "Altman, Robert            1\n",
       "Davis, Andrew             1\n",
       "Mann, Michael             1\n",
       "Cholodenko, Lisa          1\n",
       "Hanson, Curtis            1\n",
       "del Toro, Guillermo       1\n",
       "Cattaneo, Peter           1\n",
       "Coppola, Sofia            1\n",
       "Hancock, John Lee         1\n",
       "Abrahamson, Lenny         1\n",
       "Tyldum, Morten            1\n",
       "Zucker, Jerry             1\n",
       "Costner, Kevin            1\n",
       "Marshall, Penny           1\n",
       "Docter, Pete              1\n",
       "Demme, Jonathan           1\n",
       "Hackford, Taylor          1\n",
       "Cooper, Bradley           1\n",
       "Campion, Jane             1\n",
       "McCarthy, Tom             1\n",
       "Name: Director, Length: 127, dtype: int64"
      ]
     },
     "execution_count": 14,
     "metadata": {},
     "output_type": "execute_result"
    }
   ],
   "source": [
    "oscars.Director.value_counts()"
   ]
  },
  {
   "cell_type": "code",
   "execution_count": 15,
   "metadata": {},
   "outputs": [
    {
     "data": {
      "text/plain": [
       "Eastwood, Clint           2\n",
       "Boyle, Danny              1\n",
       "Jackson, Peter            1\n",
       "Madden, John              1\n",
       "Howard, Ron               1\n",
       "Bigelow, Kathryn          1\n",
       "McQueen, Steve            1\n",
       "Haggis, Paul              1\n",
       "Coen Brothers             1\n",
       "Gibson, Mel               1\n",
       "Hooper, Tom               1\n",
       "Spielberg, Steven         1\n",
       "del Toro, Guillermo       1\n",
       "Minghella, Anthony        1\n",
       "Scott, Ridley             1\n",
       "Cameron, James            1\n",
       "Mendes, Sam               1\n",
       "Scorsese, Martin          1\n",
       "Iñárritu, Alejandro G.    1\n",
       "Demme, Jonathan           1\n",
       "Marshall, Rob             1\n",
       "Jenkins, Barry            1\n",
       "Farrelly, Peter           1\n",
       "Hazanavicius, Michel      1\n",
       "Costner, Kevin            1\n",
       "Affleck, Ben              1\n",
       "Zemeckis, Robert          1\n",
       "McCarthy, Tom             1\n",
       "Name: Director, dtype: int64"
      ]
     },
     "execution_count": 15,
     "metadata": {},
     "output_type": "execute_result"
    }
   ],
   "source": [
    "oscars[oscars.Winner>0].Director.value_counts()"
   ]
  },
  {
   "cell_type": "code",
   "execution_count": 16,
   "metadata": {},
   "outputs": [
    {
     "data": {
      "text/plain": [
       "<matplotlib.axes._subplots.AxesSubplot at 0x1f321169160>"
      ]
     },
     "execution_count": 16,
     "metadata": {},
     "output_type": "execute_result"
    },
    {
     "data": {
      "image/png": "[encoded data removed]",
      "text/plain": [
       "<Figure size 720x720 with 1 Axes>"
      ]
     },
     "metadata": {
      "needs_background": "light"
     },
     "output_type": "display_data"
    }
   ],
   "source": [
    "oscars[oscars.Winner>0].Director.value_counts().plot(kind='bar' , figsize = (10,10))"
   ]
  },
  {
   "cell_type": "code",
   "execution_count": 17,
   "metadata": {},
   "outputs": [],
   "source": [
    "genre_cols = ['Action', 'Adventure', 'Animation',\n",
    "       'Biography', 'Comedy', 'Crime', 'Drama', 'Family', 'Fantasy', 'History',\n",
    "       'Horror', 'Music', 'Musical', 'Mystery', 'Romance', 'Sci-Fi', 'Sport',\n",
    "       'Thriller', 'War', 'Western']"
   ]
  },
  {
   "cell_type": "code",
   "execution_count": 18,
   "metadata": {},
   "outputs": [
    {
     "data": {
      "text/html": [
       "<div>\n",
       "<style scoped>\n",
       "    .dataframe tbody tr th:only-of-type {\n",
       "        vertical-align: middle;\n",
       "    }\n",
       "\n",
       "    .dataframe tbody tr th {\n",
       "        vertical-align: top;\n",
       "    }\n",
       "\n",
       "    .dataframe thead th {\n",
       "        text-align: right;\n",
       "    }\n",
       "</style>\n",
       "<table border=\"1\" class=\"dataframe\">\n",
       "  <thead>\n",
       "    <tr style=\"text-align: right;\">\n",
       "      <th></th>\n",
       "      <th>Action</th>\n",
       "      <th>Adventure</th>\n",
       "      <th>Animation</th>\n",
       "      <th>Biography</th>\n",
       "      <th>Comedy</th>\n",
       "      <th>Crime</th>\n",
       "      <th>Drama</th>\n",
       "      <th>Family</th>\n",
       "      <th>Fantasy</th>\n",
       "      <th>History</th>\n",
       "      <th>Horror</th>\n",
       "      <th>Music</th>\n",
       "      <th>Musical</th>\n",
       "      <th>Mystery</th>\n",
       "      <th>Romance</th>\n",
       "      <th>Sci-Fi</th>\n",
       "      <th>Sport</th>\n",
       "      <th>Thriller</th>\n",
       "      <th>War</th>\n",
       "      <th>Western</th>\n",
       "    </tr>\n",
       "  </thead>\n",
       "  <tbody>\n",
       "    <tr>\n",
       "      <th>0</th>\n",
       "      <td>0</td>\n",
       "      <td>0</td>\n",
       "      <td>0</td>\n",
       "      <td>0</td>\n",
       "      <td>0</td>\n",
       "      <td>0</td>\n",
       "      <td>1</td>\n",
       "      <td>0</td>\n",
       "      <td>0</td>\n",
       "      <td>0</td>\n",
       "      <td>0</td>\n",
       "      <td>1</td>\n",
       "      <td>0</td>\n",
       "      <td>0</td>\n",
       "      <td>1</td>\n",
       "      <td>0</td>\n",
       "      <td>0</td>\n",
       "      <td>0</td>\n",
       "      <td>0</td>\n",
       "      <td>0</td>\n",
       "    </tr>\n",
       "    <tr>\n",
       "      <th>1</th>\n",
       "      <td>1</td>\n",
       "      <td>1</td>\n",
       "      <td>0</td>\n",
       "      <td>0</td>\n",
       "      <td>0</td>\n",
       "      <td>0</td>\n",
       "      <td>0</td>\n",
       "      <td>0</td>\n",
       "      <td>0</td>\n",
       "      <td>0</td>\n",
       "      <td>0</td>\n",
       "      <td>0</td>\n",
       "      <td>0</td>\n",
       "      <td>0</td>\n",
       "      <td>0</td>\n",
       "      <td>1</td>\n",
       "      <td>0</td>\n",
       "      <td>0</td>\n",
       "      <td>0</td>\n",
       "      <td>0</td>\n",
       "    </tr>\n",
       "    <tr>\n",
       "      <th>2</th>\n",
       "      <td>0</td>\n",
       "      <td>0</td>\n",
       "      <td>0</td>\n",
       "      <td>1</td>\n",
       "      <td>0</td>\n",
       "      <td>1</td>\n",
       "      <td>1</td>\n",
       "      <td>0</td>\n",
       "      <td>0</td>\n",
       "      <td>0</td>\n",
       "      <td>0</td>\n",
       "      <td>0</td>\n",
       "      <td>0</td>\n",
       "      <td>0</td>\n",
       "      <td>0</td>\n",
       "      <td>0</td>\n",
       "      <td>0</td>\n",
       "      <td>0</td>\n",
       "      <td>0</td>\n",
       "      <td>0</td>\n",
       "    </tr>\n",
       "    <tr>\n",
       "      <th>3</th>\n",
       "      <td>0</td>\n",
       "      <td>0</td>\n",
       "      <td>0</td>\n",
       "      <td>1</td>\n",
       "      <td>0</td>\n",
       "      <td>0</td>\n",
       "      <td>1</td>\n",
       "      <td>0</td>\n",
       "      <td>0</td>\n",
       "      <td>0</td>\n",
       "      <td>0</td>\n",
       "      <td>1</td>\n",
       "      <td>0</td>\n",
       "      <td>0</td>\n",
       "      <td>0</td>\n",
       "      <td>0</td>\n",
       "      <td>0</td>\n",
       "      <td>0</td>\n",
       "      <td>0</td>\n",
       "      <td>0</td>\n",
       "    </tr>\n",
       "    <tr>\n",
       "      <th>4</th>\n",
       "      <td>0</td>\n",
       "      <td>0</td>\n",
       "      <td>0</td>\n",
       "      <td>1</td>\n",
       "      <td>1</td>\n",
       "      <td>0</td>\n",
       "      <td>1</td>\n",
       "      <td>0</td>\n",
       "      <td>0</td>\n",
       "      <td>0</td>\n",
       "      <td>0</td>\n",
       "      <td>1</td>\n",
       "      <td>0</td>\n",
       "      <td>0</td>\n",
       "      <td>0</td>\n",
       "      <td>0</td>\n",
       "      <td>0</td>\n",
       "      <td>0</td>\n",
       "      <td>0</td>\n",
       "      <td>0</td>\n",
       "    </tr>\n",
       "  </tbody>\n",
       "</table>\n",
       "</div>"
      ],
      "text/plain": [
       "   Action  Adventure  Animation  Biography  Comedy  Crime  Drama  Family  \\\n",
       "0       0          0          0          0       0      0      1       0   \n",
       "1       1          1          0          0       0      0      0       0   \n",
       "2       0          0          0          1       0      1      1       0   \n",
       "3       0          0          0          1       0      0      1       0   \n",
       "4       0          0          0          1       1      0      1       0   \n",
       "\n",
       "   Fantasy  History  Horror  Music  Musical  Mystery  Romance  Sci-Fi  Sport  \\\n",
       "0        0        0       0      1        0        0        1       0      0   \n",
       "1        0        0       0      0        0        0        0       1      0   \n",
       "2        0        0       0      0        0        0        0       0      0   \n",
       "3        0        0       0      1        0        0        0       0      0   \n",
       "4        0        0       0      1        0        0        0       0      0   \n",
       "\n",
       "   Thriller  War  Western  \n",
       "0         0    0        0  \n",
       "1         0    0        0  \n",
       "2         0    0        0  \n",
       "3         0    0        0  \n",
       "4         0    0        0  "
      ]
     },
     "execution_count": 18,
     "metadata": {},
     "output_type": "execute_result"
    }
   ],
   "source": [
    "oscars[genre_cols].head()"
   ]
  },
  {
   "cell_type": "code",
   "execution_count": 19,
   "metadata": {},
   "outputs": [],
   "source": [
    "oscars_w = oscars[oscars.Winner>0]"
   ]
  },
  {
   "cell_type": "code",
   "execution_count": 20,
   "metadata": {},
   "outputs": [
    {
     "name": "stdout",
     "output_type": "stream",
     "text": [
      "Action\n",
      "1\n",
      "Adventure\n",
      "4\n",
      "Animation\n",
      "0\n",
      "Biography\n",
      "7\n",
      "Comedy\n",
      "5\n",
      "Crime\n",
      "6\n",
      "Drama\n",
      "28\n",
      "Family\n",
      "0\n",
      "Fantasy\n",
      "2\n",
      "History\n",
      "5\n",
      "Horror\n",
      "0\n",
      "Music\n",
      "1\n",
      "Musical\n",
      "1\n",
      "Mystery\n",
      "0\n",
      "Romance\n",
      "7\n",
      "Sci-Fi\n",
      "0\n",
      "Sport\n",
      "1\n",
      "Thriller\n",
      "7\n",
      "War\n",
      "3\n",
      "Western\n",
      "2\n"
     ]
    }
   ],
   "source": [
    "for genre in genre_cols:\n",
    "    print(genre)\n",
    "    print(oscars_w[genre].sum())"
   ]
  },
  {
   "cell_type": "code",
   "execution_count": 21,
   "metadata": {},
   "outputs": [
    {
     "data": {
      "text/plain": [
       "<matplotlib.axes._subplots.AxesSubplot at 0x1f3211b3198>"
      ]
     },
     "execution_count": 21,
     "metadata": {},
     "output_type": "execute_result"
    },
    {
     "data": {
      "image/png": "[encoded data removed]",
      "text/plain": [
       "<Figure size 720x720 with 1 Axes>"
      ]
     },
     "metadata": {
      "needs_background": "light"
     },
     "output_type": "display_data"
    }
   ],
   "source": [
    "oscars_w[genre_cols].sum().plot(kind='bar', figsize = (10,10), color = 'red')\n",
    "oscars[genre_cols].sum().plot(kind='bar', figsize = (10,10) , alpha = 0.4)"
   ]
  },
  {
   "cell_type": "code",
   "execution_count": 22,
   "metadata": {},
   "outputs": [
    {
     "data": {
      "text/plain": [
       "<matplotlib.axes._subplots.AxesSubplot at 0x1f3212ea438>"
      ]
     },
     "execution_count": 22,
     "metadata": {},
     "output_type": "execute_result"
    },
    {
     "data": {
      "image/png": "[encoded data removed]",
      "text/plain": [
       "<Figure size 720x720 with 1 Axes>"
      ]
     },
     "metadata": {
      "needs_background": "light"
     },
     "output_type": "display_data"
    }
   ],
   "source": [
    "oscars[oscars.Winner>0].Studio.value_counts().plot(kind='bar' , figsize = (10,10), color = 'red')\n",
    "oscars.Studio.value_counts().plot(kind='bar',figsize =(10,10), alpha = 0.4)"
   ]
  },
  {
   "cell_type": "code",
   "execution_count": 23,
   "metadata": {},
   "outputs": [
    {
     "data": {
      "text/html": [
       "<div>\n",
       "<style scoped>\n",
       "    .dataframe tbody tr th:only-of-type {\n",
       "        vertical-align: middle;\n",
       "    }\n",
       "\n",
       "    .dataframe tbody tr th {\n",
       "        vertical-align: top;\n",
       "    }\n",
       "\n",
       "    .dataframe thead th {\n",
       "        text-align: right;\n",
       "    }\n",
       "</style>\n",
       "<table border=\"1\" class=\"dataframe\">\n",
       "  <thead>\n",
       "    <tr style=\"text-align: right;\">\n",
       "      <th></th>\n",
       "      <th>Year</th>\n",
       "      <th>Ceremony</th>\n",
       "      <th>Winner</th>\n",
       "      <th>Name</th>\n",
       "      <th>ID</th>\n",
       "      <th>Runtime</th>\n",
       "      <th>IMDB_Rating</th>\n",
       "      <th>Genre</th>\n",
       "      <th>MPAA_Rating</th>\n",
       "      <th>Release_Month</th>\n",
       "      <th>...</th>\n",
       "      <th>Horror</th>\n",
       "      <th>Music</th>\n",
       "      <th>Musical</th>\n",
       "      <th>Mystery</th>\n",
       "      <th>Romance</th>\n",
       "      <th>Sci-Fi</th>\n",
       "      <th>Sport</th>\n",
       "      <th>Thriller</th>\n",
       "      <th>War</th>\n",
       "      <th>Western</th>\n",
       "    </tr>\n",
       "  </thead>\n",
       "  <tbody>\n",
       "    <tr>\n",
       "      <th>0</th>\n",
       "      <td>2018</td>\n",
       "      <td>91</td>\n",
       "      <td>0</td>\n",
       "      <td>A Star Is Born</td>\n",
       "      <td>1517451</td>\n",
       "      <td>136</td>\n",
       "      <td>7.8</td>\n",
       "      <td>Drama, Music, Romance</td>\n",
       "      <td>R</td>\n",
       "      <td>5</td>\n",
       "      <td>...</td>\n",
       "      <td>0</td>\n",
       "      <td>1</td>\n",
       "      <td>0</td>\n",
       "      <td>0</td>\n",
       "      <td>1</td>\n",
       "      <td>0</td>\n",
       "      <td>0</td>\n",
       "      <td>0</td>\n",
       "      <td>0</td>\n",
       "      <td>0</td>\n",
       "    </tr>\n",
       "    <tr>\n",
       "      <th>1</th>\n",
       "      <td>2018</td>\n",
       "      <td>91</td>\n",
       "      <td>0</td>\n",
       "      <td>Black Panther</td>\n",
       "      <td>1825683</td>\n",
       "      <td>134</td>\n",
       "      <td>7.3</td>\n",
       "      <td>Action, Adventure, Sci-Fi</td>\n",
       "      <td>PG-13</td>\n",
       "      <td>2</td>\n",
       "      <td>...</td>\n",
       "      <td>0</td>\n",
       "      <td>0</td>\n",
       "      <td>0</td>\n",
       "      <td>0</td>\n",
       "      <td>0</td>\n",
       "      <td>1</td>\n",
       "      <td>0</td>\n",
       "      <td>0</td>\n",
       "      <td>0</td>\n",
       "      <td>0</td>\n",
       "    </tr>\n",
       "    <tr>\n",
       "      <th>2</th>\n",
       "      <td>2018</td>\n",
       "      <td>91</td>\n",
       "      <td>0</td>\n",
       "      <td>BlacKkKlansman</td>\n",
       "      <td>7349662</td>\n",
       "      <td>135</td>\n",
       "      <td>7.5</td>\n",
       "      <td>Biography, Crime, Drama</td>\n",
       "      <td>R</td>\n",
       "      <td>10</td>\n",
       "      <td>...</td>\n",
       "      <td>0</td>\n",
       "      <td>0</td>\n",
       "      <td>0</td>\n",
       "      <td>0</td>\n",
       "      <td>0</td>\n",
       "      <td>0</td>\n",
       "      <td>0</td>\n",
       "      <td>0</td>\n",
       "      <td>0</td>\n",
       "      <td>0</td>\n",
       "    </tr>\n",
       "    <tr>\n",
       "      <th>3</th>\n",
       "      <td>2018</td>\n",
       "      <td>91</td>\n",
       "      <td>0</td>\n",
       "      <td>Bohemian Rhapsody</td>\n",
       "      <td>1727824</td>\n",
       "      <td>134</td>\n",
       "      <td>8.1</td>\n",
       "      <td>Biography, Drama, Music</td>\n",
       "      <td>PG-13</td>\n",
       "      <td>2</td>\n",
       "      <td>...</td>\n",
       "      <td>0</td>\n",
       "      <td>1</td>\n",
       "      <td>0</td>\n",
       "      <td>0</td>\n",
       "      <td>0</td>\n",
       "      <td>0</td>\n",
       "      <td>0</td>\n",
       "      <td>0</td>\n",
       "      <td>0</td>\n",
       "      <td>0</td>\n",
       "    </tr>\n",
       "    <tr>\n",
       "      <th>4</th>\n",
       "      <td>2018</td>\n",
       "      <td>91</td>\n",
       "      <td>1</td>\n",
       "      <td>Green Book</td>\n",
       "      <td>6966692</td>\n",
       "      <td>130</td>\n",
       "      <td>8.3</td>\n",
       "      <td>Biography, Comedy, Drama, Music</td>\n",
       "      <td>PG-13</td>\n",
       "      <td>11</td>\n",
       "      <td>...</td>\n",
       "      <td>0</td>\n",
       "      <td>1</td>\n",
       "      <td>0</td>\n",
       "      <td>0</td>\n",
       "      <td>0</td>\n",
       "      <td>0</td>\n",
       "      <td>0</td>\n",
       "      <td>0</td>\n",
       "      <td>0</td>\n",
       "      <td>0</td>\n",
       "    </tr>\n",
       "  </tbody>\n",
       "</table>\n",
       "<p>5 rows × 34 columns</p>\n",
       "</div>"
      ],
      "text/plain": [
       "   Year  Ceremony  Winner               Name       ID  Runtime  IMDB_Rating  \\\n",
       "0  2018        91       0     A Star Is Born  1517451      136          7.8   \n",
       "1  2018        91       0      Black Panther  1825683      134          7.3   \n",
       "2  2018        91       0     BlacKkKlansman  7349662      135          7.5   \n",
       "3  2018        91       0  Bohemian Rhapsody  1727824      134          8.1   \n",
       "4  2018        91       1         Green Book  6966692      130          8.3   \n",
       "\n",
       "                               Genre MPAA_Rating  Release_Month  ...  Horror  \\\n",
       "0             Drama, Music, Romance            R              5  ...       0   \n",
       "1         Action, Adventure, Sci-Fi        PG-13              2  ...       0   \n",
       "2           Biography, Crime, Drama            R             10  ...       0   \n",
       "3           Biography, Drama, Music        PG-13              2  ...       0   \n",
       "4   Biography, Comedy, Drama, Music        PG-13             11  ...       0   \n",
       "\n",
       "  Music  Musical Mystery  Romance  Sci-Fi  Sport  Thriller  War  Western  \n",
       "0     1        0       0        1       0      0         0    0        0  \n",
       "1     0        0       0        0       1      0         0    0        0  \n",
       "2     0        0       0        0       0      0         0    0        0  \n",
       "3     1        0       0        0       0      0         0    0        0  \n",
       "4     1        0       0        0       0      0         0    0        0  \n",
       "\n",
       "[5 rows x 34 columns]"
      ]
     },
     "execution_count": 23,
     "metadata": {},
     "output_type": "execute_result"
    }
   ],
   "source": [
    "oscars.head()"
   ]
  },
  {
   "cell_type": "code",
   "execution_count": 24,
   "metadata": {
    "scrolled": false
   },
   "outputs": [
    {
     "data": {
      "text/plain": [
       " R        104\n",
       " PG-13     66\n",
       " PG        12\n",
       " G          2\n",
       "Name: MPAA_Rating, dtype: int64"
      ]
     },
     "execution_count": 24,
     "metadata": {},
     "output_type": "execute_result"
    }
   ],
   "source": [
    "oscars.MPAA_Rating.value_counts()"
   ]
  },
  {
   "cell_type": "code",
   "execution_count": 25,
   "metadata": {},
   "outputs": [],
   "source": [
    "MPAA_Rating_dummies = pd.get_dummies(oscars.MPAA_Rating , prefix = 'MPAA')"
   ]
  },
  {
   "cell_type": "code",
   "execution_count": 26,
   "metadata": {},
   "outputs": [
    {
     "data": {
      "text/html": [
       "<div>\n",
       "<style scoped>\n",
       "    .dataframe tbody tr th:only-of-type {\n",
       "        vertical-align: middle;\n",
       "    }\n",
       "\n",
       "    .dataframe tbody tr th {\n",
       "        vertical-align: top;\n",
       "    }\n",
       "\n",
       "    .dataframe thead th {\n",
       "        text-align: right;\n",
       "    }\n",
       "</style>\n",
       "<table border=\"1\" class=\"dataframe\">\n",
       "  <thead>\n",
       "    <tr style=\"text-align: right;\">\n",
       "      <th></th>\n",
       "      <th>MPAA_ G</th>\n",
       "      <th>MPAA_ PG</th>\n",
       "      <th>MPAA_ PG-13</th>\n",
       "      <th>MPAA_ R</th>\n",
       "    </tr>\n",
       "  </thead>\n",
       "  <tbody>\n",
       "    <tr>\n",
       "      <th>9</th>\n",
       "      <td>0</td>\n",
       "      <td>0</td>\n",
       "      <td>1</td>\n",
       "      <td>0</td>\n",
       "    </tr>\n",
       "    <tr>\n",
       "      <th>24</th>\n",
       "      <td>0</td>\n",
       "      <td>0</td>\n",
       "      <td>0</td>\n",
       "      <td>1</td>\n",
       "    </tr>\n",
       "    <tr>\n",
       "      <th>114</th>\n",
       "      <td>0</td>\n",
       "      <td>0</td>\n",
       "      <td>0</td>\n",
       "      <td>1</td>\n",
       "    </tr>\n",
       "    <tr>\n",
       "      <th>15</th>\n",
       "      <td>0</td>\n",
       "      <td>0</td>\n",
       "      <td>0</td>\n",
       "      <td>1</td>\n",
       "    </tr>\n",
       "    <tr>\n",
       "      <th>166</th>\n",
       "      <td>0</td>\n",
       "      <td>0</td>\n",
       "      <td>1</td>\n",
       "      <td>0</td>\n",
       "    </tr>\n",
       "    <tr>\n",
       "      <th>121</th>\n",
       "      <td>0</td>\n",
       "      <td>0</td>\n",
       "      <td>1</td>\n",
       "      <td>0</td>\n",
       "    </tr>\n",
       "    <tr>\n",
       "      <th>66</th>\n",
       "      <td>0</td>\n",
       "      <td>0</td>\n",
       "      <td>1</td>\n",
       "      <td>0</td>\n",
       "    </tr>\n",
       "    <tr>\n",
       "      <th>161</th>\n",
       "      <td>0</td>\n",
       "      <td>0</td>\n",
       "      <td>0</td>\n",
       "      <td>1</td>\n",
       "    </tr>\n",
       "    <tr>\n",
       "      <th>96</th>\n",
       "      <td>0</td>\n",
       "      <td>0</td>\n",
       "      <td>0</td>\n",
       "      <td>1</td>\n",
       "    </tr>\n",
       "    <tr>\n",
       "      <th>169</th>\n",
       "      <td>0</td>\n",
       "      <td>0</td>\n",
       "      <td>0</td>\n",
       "      <td>1</td>\n",
       "    </tr>\n",
       "  </tbody>\n",
       "</table>\n",
       "</div>"
      ],
      "text/plain": [
       "     MPAA_ G  MPAA_ PG  MPAA_ PG-13  MPAA_ R\n",
       "9          0         0            1        0\n",
       "24         0         0            0        1\n",
       "114        0         0            0        1\n",
       "15         0         0            0        1\n",
       "166        0         0            1        0\n",
       "121        0         0            1        0\n",
       "66         0         0            1        0\n",
       "161        0         0            0        1\n",
       "96         0         0            0        1\n",
       "169        0         0            0        1"
      ]
     },
     "execution_count": 26,
     "metadata": {},
     "output_type": "execute_result"
    }
   ],
   "source": [
    "MPAA_Rating_dummies.sample(n=10)"
   ]
  },
  {
   "cell_type": "code",
   "execution_count": 27,
   "metadata": {},
   "outputs": [],
   "source": [
    "MPAA_Rating_dummies.drop(MPAA_Rating_dummies.columns[0], axis=1, inplace=True)"
   ]
  },
  {
   "cell_type": "code",
   "execution_count": 28,
   "metadata": {},
   "outputs": [
    {
     "data": {
      "text/html": [
       "<div>\n",
       "<style scoped>\n",
       "    .dataframe tbody tr th:only-of-type {\n",
       "        vertical-align: middle;\n",
       "    }\n",
       "\n",
       "    .dataframe tbody tr th {\n",
       "        vertical-align: top;\n",
       "    }\n",
       "\n",
       "    .dataframe thead th {\n",
       "        text-align: right;\n",
       "    }\n",
       "</style>\n",
       "<table border=\"1\" class=\"dataframe\">\n",
       "  <thead>\n",
       "    <tr style=\"text-align: right;\">\n",
       "      <th></th>\n",
       "      <th>MPAA_ PG</th>\n",
       "      <th>MPAA_ PG-13</th>\n",
       "      <th>MPAA_ R</th>\n",
       "    </tr>\n",
       "  </thead>\n",
       "  <tbody>\n",
       "    <tr>\n",
       "      <th>19</th>\n",
       "      <td>0</td>\n",
       "      <td>0</td>\n",
       "      <td>1</td>\n",
       "    </tr>\n",
       "    <tr>\n",
       "      <th>35</th>\n",
       "      <td>0</td>\n",
       "      <td>0</td>\n",
       "      <td>1</td>\n",
       "    </tr>\n",
       "    <tr>\n",
       "      <th>46</th>\n",
       "      <td>0</td>\n",
       "      <td>1</td>\n",
       "      <td>0</td>\n",
       "    </tr>\n",
       "    <tr>\n",
       "      <th>114</th>\n",
       "      <td>0</td>\n",
       "      <td>0</td>\n",
       "      <td>1</td>\n",
       "    </tr>\n",
       "    <tr>\n",
       "      <th>127</th>\n",
       "      <td>0</td>\n",
       "      <td>1</td>\n",
       "      <td>0</td>\n",
       "    </tr>\n",
       "    <tr>\n",
       "      <th>173</th>\n",
       "      <td>0</td>\n",
       "      <td>0</td>\n",
       "      <td>1</td>\n",
       "    </tr>\n",
       "    <tr>\n",
       "      <th>168</th>\n",
       "      <td>1</td>\n",
       "      <td>0</td>\n",
       "      <td>0</td>\n",
       "    </tr>\n",
       "    <tr>\n",
       "      <th>96</th>\n",
       "      <td>0</td>\n",
       "      <td>0</td>\n",
       "      <td>1</td>\n",
       "    </tr>\n",
       "    <tr>\n",
       "      <th>53</th>\n",
       "      <td>0</td>\n",
       "      <td>1</td>\n",
       "      <td>0</td>\n",
       "    </tr>\n",
       "    <tr>\n",
       "      <th>36</th>\n",
       "      <td>0</td>\n",
       "      <td>0</td>\n",
       "      <td>1</td>\n",
       "    </tr>\n",
       "  </tbody>\n",
       "</table>\n",
       "</div>"
      ],
      "text/plain": [
       "     MPAA_ PG  MPAA_ PG-13  MPAA_ R\n",
       "19          0            0        1\n",
       "35          0            0        1\n",
       "46          0            1        0\n",
       "114         0            0        1\n",
       "127         0            1        0\n",
       "173         0            0        1\n",
       "168         1            0        0\n",
       "96          0            0        1\n",
       "53          0            1        0\n",
       "36          0            0        1"
      ]
     },
     "execution_count": 28,
     "metadata": {},
     "output_type": "execute_result"
    }
   ],
   "source": [
    "MPAA_Rating_dummies.sample(n=10)"
   ]
  },
  {
   "cell_type": "code",
   "execution_count": 29,
   "metadata": {},
   "outputs": [],
   "source": [
    "oscars = pd.concat([oscars ,MPAA_Rating_dummies], axis = 1)"
   ]
  },
  {
   "cell_type": "code",
   "execution_count": 30,
   "metadata": {},
   "outputs": [],
   "source": [
    "Studio_dummies = pd.get_dummies(oscars.Studio , prefix = 'studio')"
   ]
  },
  {
   "cell_type": "code",
   "execution_count": 31,
   "metadata": {},
   "outputs": [
    {
     "data": {
      "text/html": [
       "<div>\n",
       "<style scoped>\n",
       "    .dataframe tbody tr th:only-of-type {\n",
       "        vertical-align: middle;\n",
       "    }\n",
       "\n",
       "    .dataframe tbody tr th {\n",
       "        vertical-align: top;\n",
       "    }\n",
       "\n",
       "    .dataframe thead th {\n",
       "        text-align: right;\n",
       "    }\n",
       "</style>\n",
       "<table border=\"1\" class=\"dataframe\">\n",
       "  <thead>\n",
       "    <tr style=\"text-align: right;\">\n",
       "      <th></th>\n",
       "      <th>studio_ A24</th>\n",
       "      <th>studio_ Annapurna</th>\n",
       "      <th>studio_ BV</th>\n",
       "      <th>studio_ Col.</th>\n",
       "      <th>studio_ DW</th>\n",
       "      <th>studio_ FL</th>\n",
       "      <th>studio_ Focus</th>\n",
       "      <th>studio_ Fox</th>\n",
       "      <th>studio_ FoxS</th>\n",
       "      <th>studio_ Gram.</th>\n",
       "      <th>...</th>\n",
       "      <th>studio_ RAtt.</th>\n",
       "      <th>studio_ SPC</th>\n",
       "      <th>studio_ Sony</th>\n",
       "      <th>studio_ Sum.</th>\n",
       "      <th>studio_ TriS</th>\n",
       "      <th>studio_ USA</th>\n",
       "      <th>studio_ Uni.</th>\n",
       "      <th>studio_ WB</th>\n",
       "      <th>studio_ WIP</th>\n",
       "      <th>studio_ Wein.</th>\n",
       "    </tr>\n",
       "  </thead>\n",
       "  <tbody>\n",
       "    <tr>\n",
       "      <th>0</th>\n",
       "      <td>0</td>\n",
       "      <td>0</td>\n",
       "      <td>0</td>\n",
       "      <td>0</td>\n",
       "      <td>0</td>\n",
       "      <td>0</td>\n",
       "      <td>0</td>\n",
       "      <td>0</td>\n",
       "      <td>0</td>\n",
       "      <td>0</td>\n",
       "      <td>...</td>\n",
       "      <td>0</td>\n",
       "      <td>0</td>\n",
       "      <td>0</td>\n",
       "      <td>0</td>\n",
       "      <td>0</td>\n",
       "      <td>0</td>\n",
       "      <td>0</td>\n",
       "      <td>1</td>\n",
       "      <td>0</td>\n",
       "      <td>0</td>\n",
       "    </tr>\n",
       "    <tr>\n",
       "      <th>1</th>\n",
       "      <td>0</td>\n",
       "      <td>0</td>\n",
       "      <td>1</td>\n",
       "      <td>0</td>\n",
       "      <td>0</td>\n",
       "      <td>0</td>\n",
       "      <td>0</td>\n",
       "      <td>0</td>\n",
       "      <td>0</td>\n",
       "      <td>0</td>\n",
       "      <td>...</td>\n",
       "      <td>0</td>\n",
       "      <td>0</td>\n",
       "      <td>0</td>\n",
       "      <td>0</td>\n",
       "      <td>0</td>\n",
       "      <td>0</td>\n",
       "      <td>0</td>\n",
       "      <td>0</td>\n",
       "      <td>0</td>\n",
       "      <td>0</td>\n",
       "    </tr>\n",
       "    <tr>\n",
       "      <th>2</th>\n",
       "      <td>0</td>\n",
       "      <td>0</td>\n",
       "      <td>0</td>\n",
       "      <td>0</td>\n",
       "      <td>0</td>\n",
       "      <td>0</td>\n",
       "      <td>1</td>\n",
       "      <td>0</td>\n",
       "      <td>0</td>\n",
       "      <td>0</td>\n",
       "      <td>...</td>\n",
       "      <td>0</td>\n",
       "      <td>0</td>\n",
       "      <td>0</td>\n",
       "      <td>0</td>\n",
       "      <td>0</td>\n",
       "      <td>0</td>\n",
       "      <td>0</td>\n",
       "      <td>0</td>\n",
       "      <td>0</td>\n",
       "      <td>0</td>\n",
       "    </tr>\n",
       "    <tr>\n",
       "      <th>3</th>\n",
       "      <td>0</td>\n",
       "      <td>0</td>\n",
       "      <td>0</td>\n",
       "      <td>0</td>\n",
       "      <td>0</td>\n",
       "      <td>0</td>\n",
       "      <td>0</td>\n",
       "      <td>1</td>\n",
       "      <td>0</td>\n",
       "      <td>0</td>\n",
       "      <td>...</td>\n",
       "      <td>0</td>\n",
       "      <td>0</td>\n",
       "      <td>0</td>\n",
       "      <td>0</td>\n",
       "      <td>0</td>\n",
       "      <td>0</td>\n",
       "      <td>0</td>\n",
       "      <td>0</td>\n",
       "      <td>0</td>\n",
       "      <td>0</td>\n",
       "    </tr>\n",
       "    <tr>\n",
       "      <th>4</th>\n",
       "      <td>0</td>\n",
       "      <td>0</td>\n",
       "      <td>0</td>\n",
       "      <td>0</td>\n",
       "      <td>0</td>\n",
       "      <td>0</td>\n",
       "      <td>0</td>\n",
       "      <td>0</td>\n",
       "      <td>0</td>\n",
       "      <td>0</td>\n",
       "      <td>...</td>\n",
       "      <td>0</td>\n",
       "      <td>0</td>\n",
       "      <td>0</td>\n",
       "      <td>0</td>\n",
       "      <td>0</td>\n",
       "      <td>0</td>\n",
       "      <td>1</td>\n",
       "      <td>0</td>\n",
       "      <td>0</td>\n",
       "      <td>0</td>\n",
       "    </tr>\n",
       "  </tbody>\n",
       "</table>\n",
       "<p>5 rows × 32 columns</p>\n",
       "</div>"
      ],
      "text/plain": [
       "   studio_ A24   studio_ Annapurna   studio_ BV   studio_ Col.   studio_ DW   \\\n",
       "0             0                   0            0              0            0   \n",
       "1             0                   0            1              0            0   \n",
       "2             0                   0            0              0            0   \n",
       "3             0                   0            0              0            0   \n",
       "4             0                   0            0              0            0   \n",
       "\n",
       "   studio_ FL   studio_ Focus   studio_ Fox   studio_ FoxS   studio_ Gram.   \\\n",
       "0            0               0             0              0               0   \n",
       "1            0               0             0              0               0   \n",
       "2            0               1             0              0               0   \n",
       "3            0               0             1              0               0   \n",
       "4            0               0             0              0               0   \n",
       "\n",
       "   ...  studio_ RAtt.   studio_ SPC   studio_ Sony   studio_ Sum.   \\\n",
       "0  ...               0             0              0              0   \n",
       "1  ...               0             0              0              0   \n",
       "2  ...               0             0              0              0   \n",
       "3  ...               0             0              0              0   \n",
       "4  ...               0             0              0              0   \n",
       "\n",
       "   studio_ TriS   studio_ USA   studio_ Uni.   studio_ WB   studio_ WIP   \\\n",
       "0              0             0              0            1             0   \n",
       "1              0             0              0            0             0   \n",
       "2              0             0              0            0             0   \n",
       "3              0             0              0            0             0   \n",
       "4              0             0              1            0             0   \n",
       "\n",
       "   studio_ Wein.   \n",
       "0               0  \n",
       "1               0  \n",
       "2               0  \n",
       "3               0  \n",
       "4               0  \n",
       "\n",
       "[5 rows x 32 columns]"
      ]
     },
     "execution_count": 31,
     "metadata": {},
     "output_type": "execute_result"
    }
   ],
   "source": [
    "Studio_dummies.head()"
   ]
  },
  {
   "cell_type": "code",
   "execution_count": 32,
   "metadata": {},
   "outputs": [],
   "source": [
    "oscars = pd.concat([oscars ,Studio_dummies], axis = 1)"
   ]
  },
  {
   "cell_type": "code",
   "execution_count": 33,
   "metadata": {},
   "outputs": [
    {
     "data": {
      "text/plain": [
       "Index(['Year', 'Ceremony', 'Winner', 'Name', 'ID', 'Runtime', 'IMDB_Rating',\n",
       "       'Genre', 'MPAA_Rating', 'Release_Month', 'Pre_Nom_Gross', 'Studio',\n",
       "       'Total_nominations', 'Director', 'Action', 'Adventure', 'Animation',\n",
       "       'Biography', 'Comedy', 'Crime', 'Drama', 'Family', 'Fantasy', 'History',\n",
       "       'Horror', 'Music', 'Musical', 'Mystery', 'Romance', 'Sci-Fi', 'Sport',\n",
       "       'Thriller', 'War', 'Western', 'MPAA_ PG', 'MPAA_ PG-13', 'MPAA_ R',\n",
       "       'studio_ A24 ', 'studio_ Annapurna ', 'studio_ BV ', 'studio_ Col. ',\n",
       "       'studio_ DW ', 'studio_ FL ', 'studio_ Focus ', 'studio_ Fox ',\n",
       "       'studio_ FoxS ', 'studio_ Gram. ', 'studio_ IFC ', 'studio_ LG/S ',\n",
       "       'studio_ LGF ', 'studio_ Lions ', 'studio_ Mira. ', 'studio_ NL ',\n",
       "       'studio_ Netflix ', 'studio_ ORF ', 'studio_ Oct. ', 'studio_ Orion ',\n",
       "       'studio_ Par. ', 'studio_ ParV ', 'studio_ RAtt. ', 'studio_ SPC ',\n",
       "       'studio_ Sony ', 'studio_ Sum. ', 'studio_ TriS ', 'studio_ USA ',\n",
       "       'studio_ Uni. ', 'studio_ WB ', 'studio_ WIP ', 'studio_ Wein. '],\n",
       "      dtype='object')"
      ]
     },
     "execution_count": 33,
     "metadata": {},
     "output_type": "execute_result"
    }
   ],
   "source": [
    "oscars.columns"
   ]
  },
  {
   "cell_type": "code",
   "execution_count": 34,
   "metadata": {},
   "outputs": [],
   "source": [
    "oscars['release_nom'] = 14 - oscars['Release_Month']"
   ]
  },
  {
   "cell_type": "code",
   "execution_count": 35,
   "metadata": {
    "scrolled": false
   },
   "outputs": [
    {
     "data": {
      "text/html": [
       "<div>\n",
       "<style scoped>\n",
       "    .dataframe tbody tr th:only-of-type {\n",
       "        vertical-align: middle;\n",
       "    }\n",
       "\n",
       "    .dataframe tbody tr th {\n",
       "        vertical-align: top;\n",
       "    }\n",
       "\n",
       "    .dataframe thead th {\n",
       "        text-align: right;\n",
       "    }\n",
       "</style>\n",
       "<table border=\"1\" class=\"dataframe\">\n",
       "  <thead>\n",
       "    <tr style=\"text-align: right;\">\n",
       "      <th></th>\n",
       "      <th>Year</th>\n",
       "      <th>Ceremony</th>\n",
       "      <th>Winner</th>\n",
       "      <th>Name</th>\n",
       "      <th>ID</th>\n",
       "      <th>Runtime</th>\n",
       "      <th>IMDB_Rating</th>\n",
       "      <th>Genre</th>\n",
       "      <th>MPAA_Rating</th>\n",
       "      <th>Release_Month</th>\n",
       "      <th>...</th>\n",
       "      <th>studio_ SPC</th>\n",
       "      <th>studio_ Sony</th>\n",
       "      <th>studio_ Sum.</th>\n",
       "      <th>studio_ TriS</th>\n",
       "      <th>studio_ USA</th>\n",
       "      <th>studio_ Uni.</th>\n",
       "      <th>studio_ WB</th>\n",
       "      <th>studio_ WIP</th>\n",
       "      <th>studio_ Wein.</th>\n",
       "      <th>release_nom</th>\n",
       "    </tr>\n",
       "  </thead>\n",
       "  <tbody>\n",
       "    <tr>\n",
       "      <th>0</th>\n",
       "      <td>2018</td>\n",
       "      <td>91</td>\n",
       "      <td>0</td>\n",
       "      <td>A Star Is Born</td>\n",
       "      <td>1517451</td>\n",
       "      <td>136</td>\n",
       "      <td>7.8</td>\n",
       "      <td>Drama, Music, Romance</td>\n",
       "      <td>R</td>\n",
       "      <td>5</td>\n",
       "      <td>...</td>\n",
       "      <td>0</td>\n",
       "      <td>0</td>\n",
       "      <td>0</td>\n",
       "      <td>0</td>\n",
       "      <td>0</td>\n",
       "      <td>0</td>\n",
       "      <td>1</td>\n",
       "      <td>0</td>\n",
       "      <td>0</td>\n",
       "      <td>9</td>\n",
       "    </tr>\n",
       "    <tr>\n",
       "      <th>1</th>\n",
       "      <td>2018</td>\n",
       "      <td>91</td>\n",
       "      <td>0</td>\n",
       "      <td>Black Panther</td>\n",
       "      <td>1825683</td>\n",
       "      <td>134</td>\n",
       "      <td>7.3</td>\n",
       "      <td>Action, Adventure, Sci-Fi</td>\n",
       "      <td>PG-13</td>\n",
       "      <td>2</td>\n",
       "      <td>...</td>\n",
       "      <td>0</td>\n",
       "      <td>0</td>\n",
       "      <td>0</td>\n",
       "      <td>0</td>\n",
       "      <td>0</td>\n",
       "      <td>0</td>\n",
       "      <td>0</td>\n",
       "      <td>0</td>\n",
       "      <td>0</td>\n",
       "      <td>12</td>\n",
       "    </tr>\n",
       "    <tr>\n",
       "      <th>2</th>\n",
       "      <td>2018</td>\n",
       "      <td>91</td>\n",
       "      <td>0</td>\n",
       "      <td>BlacKkKlansman</td>\n",
       "      <td>7349662</td>\n",
       "      <td>135</td>\n",
       "      <td>7.5</td>\n",
       "      <td>Biography, Crime, Drama</td>\n",
       "      <td>R</td>\n",
       "      <td>10</td>\n",
       "      <td>...</td>\n",
       "      <td>0</td>\n",
       "      <td>0</td>\n",
       "      <td>0</td>\n",
       "      <td>0</td>\n",
       "      <td>0</td>\n",
       "      <td>0</td>\n",
       "      <td>0</td>\n",
       "      <td>0</td>\n",
       "      <td>0</td>\n",
       "      <td>4</td>\n",
       "    </tr>\n",
       "    <tr>\n",
       "      <th>3</th>\n",
       "      <td>2018</td>\n",
       "      <td>91</td>\n",
       "      <td>0</td>\n",
       "      <td>Bohemian Rhapsody</td>\n",
       "      <td>1727824</td>\n",
       "      <td>134</td>\n",
       "      <td>8.1</td>\n",
       "      <td>Biography, Drama, Music</td>\n",
       "      <td>PG-13</td>\n",
       "      <td>2</td>\n",
       "      <td>...</td>\n",
       "      <td>0</td>\n",
       "      <td>0</td>\n",
       "      <td>0</td>\n",
       "      <td>0</td>\n",
       "      <td>0</td>\n",
       "      <td>0</td>\n",
       "      <td>0</td>\n",
       "      <td>0</td>\n",
       "      <td>0</td>\n",
       "      <td>12</td>\n",
       "    </tr>\n",
       "    <tr>\n",
       "      <th>4</th>\n",
       "      <td>2018</td>\n",
       "      <td>91</td>\n",
       "      <td>1</td>\n",
       "      <td>Green Book</td>\n",
       "      <td>6966692</td>\n",
       "      <td>130</td>\n",
       "      <td>8.3</td>\n",
       "      <td>Biography, Comedy, Drama, Music</td>\n",
       "      <td>PG-13</td>\n",
       "      <td>11</td>\n",
       "      <td>...</td>\n",
       "      <td>0</td>\n",
       "      <td>0</td>\n",
       "      <td>0</td>\n",
       "      <td>0</td>\n",
       "      <td>0</td>\n",
       "      <td>1</td>\n",
       "      <td>0</td>\n",
       "      <td>0</td>\n",
       "      <td>0</td>\n",
       "      <td>3</td>\n",
       "    </tr>\n",
       "  </tbody>\n",
       "</table>\n",
       "<p>5 rows × 70 columns</p>\n",
       "</div>"
      ],
      "text/plain": [
       "   Year  Ceremony  Winner               Name       ID  Runtime  IMDB_Rating  \\\n",
       "0  2018        91       0     A Star Is Born  1517451      136          7.8   \n",
       "1  2018        91       0      Black Panther  1825683      134          7.3   \n",
       "2  2018        91       0     BlacKkKlansman  7349662      135          7.5   \n",
       "3  2018        91       0  Bohemian Rhapsody  1727824      134          8.1   \n",
       "4  2018        91       1         Green Book  6966692      130          8.3   \n",
       "\n",
       "                               Genre MPAA_Rating  Release_Month  ...  \\\n",
       "0             Drama, Music, Romance            R              5  ...   \n",
       "1         Action, Adventure, Sci-Fi        PG-13              2  ...   \n",
       "2           Biography, Crime, Drama            R             10  ...   \n",
       "3           Biography, Drama, Music        PG-13              2  ...   \n",
       "4   Biography, Comedy, Drama, Music        PG-13             11  ...   \n",
       "\n",
       "   studio_ SPC  studio_ Sony   studio_ Sum.  studio_ TriS   studio_ USA   \\\n",
       "0             0             0              0             0             0   \n",
       "1             0             0              0             0             0   \n",
       "2             0             0              0             0             0   \n",
       "3             0             0              0             0             0   \n",
       "4             0             0              0             0             0   \n",
       "\n",
       "   studio_ Uni.   studio_ WB   studio_ WIP   studio_ Wein.   release_nom  \n",
       "0              0            1             0               0            9  \n",
       "1              0            0             0               0           12  \n",
       "2              0            0             0               0            4  \n",
       "3              0            0             0               0           12  \n",
       "4              1            0             0               0            3  \n",
       "\n",
       "[5 rows x 70 columns]"
      ]
     },
     "execution_count": 35,
     "metadata": {},
     "output_type": "execute_result"
    }
   ],
   "source": [
    "oscars.head()"
   ]
  },
  {
   "cell_type": "code",
   "execution_count": 36,
   "metadata": {},
   "outputs": [
    {
     "data": {
      "text/plain": [
       "Index(['Year', 'Ceremony', 'Winner', 'Name', 'ID', 'Runtime', 'IMDB_Rating',\n",
       "       'Genre', 'MPAA_Rating', 'Release_Month', 'Pre_Nom_Gross', 'Studio',\n",
       "       'Total_nominations', 'Director', 'Action', 'Adventure', 'Animation',\n",
       "       'Biography', 'Comedy', 'Crime', 'Drama', 'Family', 'Fantasy', 'History',\n",
       "       'Horror', 'Music', 'Musical', 'Mystery', 'Romance', 'Sci-Fi', 'Sport',\n",
       "       'Thriller', 'War', 'Western', 'MPAA_ PG', 'MPAA_ PG-13', 'MPAA_ R',\n",
       "       'studio_ A24 ', 'studio_ Annapurna ', 'studio_ BV ', 'studio_ Col. ',\n",
       "       'studio_ DW ', 'studio_ FL ', 'studio_ Focus ', 'studio_ Fox ',\n",
       "       'studio_ FoxS ', 'studio_ Gram. ', 'studio_ IFC ', 'studio_ LG/S ',\n",
       "       'studio_ LGF ', 'studio_ Lions ', 'studio_ Mira. ', 'studio_ NL ',\n",
       "       'studio_ Netflix ', 'studio_ ORF ', 'studio_ Oct. ', 'studio_ Orion ',\n",
       "       'studio_ Par. ', 'studio_ ParV ', 'studio_ RAtt. ', 'studio_ SPC ',\n",
       "       'studio_ Sony ', 'studio_ Sum. ', 'studio_ TriS ', 'studio_ USA ',\n",
       "       'studio_ Uni. ', 'studio_ WB ', 'studio_ WIP ', 'studio_ Wein. ',\n",
       "       'release_nom'],\n",
       "      dtype='object')"
      ]
     },
     "execution_count": 36,
     "metadata": {},
     "output_type": "execute_result"
    }
   ],
   "source": [
    "oscars.columns"
   ]
  },
  {
   "cell_type": "code",
   "execution_count": 37,
   "metadata": {},
   "outputs": [],
   "source": [
    "from sklearn.model_selection import train_test_split"
   ]
  },
  {
   "cell_type": "code",
   "execution_count": 38,
   "metadata": {},
   "outputs": [],
   "source": [
    "feature_cols =['Runtime', 'IMDB_Rating','Pre_Nom_Gross','Total_nominations','Action', 'Adventure', 'Animation','Biography', 'Comedy', 'Crime', 'Drama', 'Family', 'Fantasy', 'History','Horror', 'Music', 'Musical', 'Mystery', 'Romance', 'Sci-Fi', 'Sport','Thriller', 'War', 'Western', 'MPAA_ PG', 'MPAA_ PG-13', 'MPAA_ R','studio_ A24 ', 'studio_ Annapurna ', 'studio_ BV ', 'studio_ Col. ','studio_ DW ', 'studio_ FL ', 'studio_ Focus ', 'studio_ Fox ','studio_ FoxS ', 'studio_ Gram. ', 'studio_ IFC ', 'studio_ LG/S ','studio_ LGF ', 'studio_ Lions ', 'studio_ Mira. ', 'studio_ NL ','studio_ Netflix ', 'studio_ ORF ', 'studio_ Oct. ', 'studio_ Orion ','studio_ Par. ', 'studio_ ParV ', 'studio_ RAtt. ', 'studio_ SPC ','studio_ Sony ', 'studio_ Sum. ', 'studio_ TriS ', 'studio_ USA ','studio_ Uni. ', 'studio_ WB ', 'studio_ WIP ', 'studio_ Wein. ' , 'release_nom']"
   ]
  },
  {
   "cell_type": "code",
   "execution_count": 39,
   "metadata": {},
   "outputs": [],
   "source": [
    "X = oscars[feature_cols]\n",
    "y = oscars.Winner"
   ]
  },
  {
   "cell_type": "code",
   "execution_count": 40,
   "metadata": {},
   "outputs": [],
   "source": [
    "X_train, X_test, y_train, y_test = train_test_split(X, y, random_state=1 , stratify = y, test_size = 0.2)"
   ]
  },
  {
   "cell_type": "code",
   "execution_count": 41,
   "metadata": {},
   "outputs": [],
   "source": [
    "from sklearn import model_selection"
   ]
  },
  {
   "cell_type": "code",
   "execution_count": 42,
   "metadata": {},
   "outputs": [],
   "source": [
    "kf = model_selection.StratifiedKFold(n_splits=4, shuffle=True ,random_state =2)"
   ]
  },
  {
   "cell_type": "code",
   "execution_count": 43,
   "metadata": {},
   "outputs": [],
   "source": [
    "from sklearn.linear_model import LogisticRegression\n",
    "from sklearn import metrics"
   ]
  },
  {
   "cell_type": "code",
   "execution_count": 44,
   "metadata": {},
   "outputs": [
    {
     "name": "stdout",
     "output_type": "stream",
     "text": [
      "~~~~ CROSS VALIDATION each fold ~~~~\n",
      "Model 1\n",
      "Accuracy: 0.8378378378378378\n",
      "[0 0 0 0 0 0 0 0 0 0 0 0 0 0 0 0 0 0 0 0 0 0 0 0 0 0 0 0 0 0 0 0 0 0 0 0 0]\n",
      "[[31  0]\n",
      " [ 6  0]]\n",
      "ROC AUC: 0.5\n",
      "~~~~~~~~~~~~~~~~~~~~~~~~~~~~~~~~~~~~~~~~~~\n",
      "Model 2\n",
      "Accuracy: 0.8378378378378378\n",
      "[0 0 0 0 0 0 0 0 0 0 0 0 0 0 0 0 0 0 0 0 0 0 0 0 0 0 0 0 0 0 0 0 0 0 0 0 0]\n",
      "[[31  0]\n",
      " [ 6  0]]\n",
      "ROC AUC: 0.5\n",
      "~~~~~~~~~~~~~~~~~~~~~~~~~~~~~~~~~~~~~~~~~~\n",
      "Model 3\n",
      "Accuracy: 0.8378378378378378\n",
      "[0 0 0 0 0 0 0 0 0 0 0 0 0 0 0 0 0 0 0 0 0 0 0 0 0 0 0 0 0 0 0 0 0 0 0 0 0]\n",
      "[[31  0]\n",
      " [ 6  0]]\n",
      "ROC AUC: 0.5\n",
      "~~~~~~~~~~~~~~~~~~~~~~~~~~~~~~~~~~~~~~~~~~\n",
      "Model 4\n",
      "Accuracy: 0.8611111111111112\n",
      "[0 0 0 0 0 0 0 0 0 0 0 0 0 0 0 0 0 0 0 0 0 0 0 0 0 0 0 0 0 0 0 0 0 0 0 0]\n",
      "[[31  0]\n",
      " [ 5  0]]\n",
      "ROC AUC: 0.5\n",
      "~~~~~~~~~~~~~~~~~~~~~~~~~~~~~~~~~~~~~~~~~~\n",
      "~~~~ SUMMARY OF CROSS VALIDATION ~~~~\n",
      "Mean of accuracy for all folds : 0.8436561561561562 \n",
      "Mean of ROC AUC: 0.5\n",
      "[[31.    0.  ]\n",
      " [ 5.75  0.  ]]\n"
     ]
    }
   ],
   "source": [
    "n = 0\n",
    "accuracy = []\n",
    "roc = []\n",
    "matrix = []\n",
    "\n",
    "print(\"~~~~ CROSS VALIDATION each fold ~~~~\")\n",
    "for train_index, test_index in kf.split(X_train, y_train):\n",
    "    lr = LogisticRegression(solver = 'lbfgs').fit(X_train.iloc[train_index], y_train.iloc[train_index])\n",
    "    \n",
    "    prediction = lr.predict(X_train.iloc[test_index])\n",
    "    actual = y_train.iloc[test_index]\n",
    "    accuracy.append(np.mean(y_train.iloc[test_index] == lr.predict(X_train.iloc[test_index])))\n",
    "    lr_pred_proba = lr.predict_proba(X_train.iloc[test_index])[:,1]\n",
    "    matrix.append(metrics.confusion_matrix(y_true=y_train.iloc[test_index], y_pred=lr_pred_proba > .5))\n",
    "    roc.append(metrics.roc_auc_score(y_true=y_train.iloc[test_index], y_score=lr_pred_proba> .5))\n",
    "    \n",
    "    n += 1\n",
    "    \n",
    "    print('Model {}'.format(n))\n",
    "    \n",
    "    print('Accuracy: {}' .format(accuracy[n-1]))\n",
    "    print(prediction)\n",
    "    print(matrix[n-1])\n",
    "    print('ROC AUC: {}'.format(roc[n-1]))\n",
    "    print('~~~~~~~~~~~~~~~~~~~~~~~~~~~~~~~~~~~~~~~~~~')\n",
    "    \n",
    "\n",
    "\n",
    "print(\"~~~~ SUMMARY OF CROSS VALIDATION ~~~~\")\n",
    "print('Mean of accuracy for all folds : {} '.format(np.mean(accuracy)))\n",
    "print('Mean of ROC AUC: {}'.format(np.mean(roc)))\n",
    "d =(np.sum(matrix,0))/4\n",
    "print(d)\n"
   ]
  },
  {
   "cell_type": "code",
   "execution_count": 45,
   "metadata": {},
   "outputs": [
    {
     "data": {
      "text/plain": [
       "0    155\n",
       "1     29\n",
       "Name: Winner, dtype: int64"
      ]
     },
     "execution_count": 45,
     "metadata": {},
     "output_type": "execute_result"
    }
   ],
   "source": [
    "oscars.Winner.value_counts()"
   ]
  },
  {
   "cell_type": "code",
   "execution_count": 46,
   "metadata": {},
   "outputs": [
    {
     "data": {
      "text/plain": [
       "0.842391304347826"
      ]
     },
     "execution_count": 46,
     "metadata": {},
     "output_type": "execute_result"
    }
   ],
   "source": [
    "155/184"
   ]
  },
  {
   "cell_type": "code",
   "execution_count": 47,
   "metadata": {},
   "outputs": [],
   "source": [
    "feature_cols =['Action', 'Adventure', 'Animation','Biography', 'Comedy', 'Crime', 'Drama', 'Family', 'Fantasy', 'History','Horror', 'Music', 'Musical', 'Mystery', 'Romance', 'Sci-Fi', 'Sport','Thriller', 'War', 'Western', 'MPAA_ PG', 'MPAA_ PG-13', 'MPAA_ R','studio_ A24 ', 'studio_ Annapurna ', 'studio_ BV ', 'studio_ Col. ','studio_ DW ', 'studio_ FL ', 'studio_ Focus ', 'studio_ Fox ','studio_ FoxS ', 'studio_ Gram. ', 'studio_ IFC ', 'studio_ LG/S ','studio_ LGF ', 'studio_ Lions ', 'studio_ Mira. ', 'studio_ NL ','studio_ Netflix ', 'studio_ ORF ', 'studio_ Oct. ', 'studio_ Orion ','studio_ Par. ', 'studio_ ParV ', 'studio_ RAtt. ', 'studio_ SPC ','studio_ Sony ', 'studio_ Sum. ', 'studio_ TriS ', 'studio_ USA ','studio_ Uni. ', 'studio_ WB ', 'studio_ WIP ', 'studio_ Wein. ' , 'release_nom' , 'Total_nominations']"
   ]
  },
  {
   "cell_type": "code",
   "execution_count": 48,
   "metadata": {},
   "outputs": [],
   "source": [
    "X = oscars[feature_cols]\n",
    "y = oscars.Winner"
   ]
  },
  {
   "cell_type": "code",
   "execution_count": 49,
   "metadata": {},
   "outputs": [],
   "source": [
    "X_train, X_test, y_train, y_test = train_test_split(X, y, random_state=1 , stratify =y, test_size = 0.2)"
   ]
  },
  {
   "cell_type": "code",
   "execution_count": 50,
   "metadata": {},
   "outputs": [],
   "source": [
    "kf = model_selection.StratifiedKFold(n_splits=4, shuffle=True ,random_state =2)"
   ]
  },
  {
   "cell_type": "code",
   "execution_count": 51,
   "metadata": {
    "scrolled": false
   },
   "outputs": [
    {
     "name": "stdout",
     "output_type": "stream",
     "text": [
      "~~~~ CROSS VALIDATION each fold ~~~~\n",
      "Model 1\n",
      "Accuracy: 0.8378378378378378\n",
      "[1 1 0 0 0 0 0 0 0 0 1 0 0 1 0 0 0 0 1 0 0 0 0 0 0 0 1 0 0 0 1 0 0 0 0 1 0]\n",
      "[[27  4]\n",
      " [ 2  4]]\n",
      "ROC AUC: 0.7688172043010751\n",
      "~~~~~~~~~~~~~~~~~~~~~~~~~~~~~~~~~~~~~~~~~~\n",
      "Model 2\n",
      "Accuracy: 0.8648648648648649\n",
      "[1 0 0 0 0 0 1 0 1 0 1 0 1 0 0 0 1 0 1 0 1 0 0 0 0 0 0 0 0 0 0 0 0 0 1 0 0]\n",
      "[[27  4]\n",
      " [ 1  5]]\n",
      "ROC AUC: 0.8521505376344086\n",
      "~~~~~~~~~~~~~~~~~~~~~~~~~~~~~~~~~~~~~~~~~~\n",
      "Model 3\n",
      "Accuracy: 0.7567567567567568\n",
      "[1 0 0 0 1 0 0 0 1 0 0 0 1 1 0 0 1 1 0 0 1 0 0 1 1 1 0 0 0 0 0 0 0 0 0 0 0]\n",
      "[[24  7]\n",
      " [ 2  4]]\n",
      "ROC AUC: 0.7204301075268815\n",
      "~~~~~~~~~~~~~~~~~~~~~~~~~~~~~~~~~~~~~~~~~~\n",
      "Model 4\n",
      "Accuracy: 0.75\n",
      "[0 0 0 0 1 0 1 0 0 0 0 0 0 1 0 0 1 0 0 0 1 0 1 1 1 0 0 0 0 0 0 0 0 0 0 0]\n",
      "[[25  6]\n",
      " [ 3  2]]\n",
      "ROC AUC: 0.6032258064516128\n",
      "~~~~~~~~~~~~~~~~~~~~~~~~~~~~~~~~~~~~~~~~~~\n",
      "~~~~ SUMMARY OF CROSS VALIDATION ~~~~\n",
      "Mean of accuracy for all folds : 0.8023648648648649 \n",
      "Mean of ROC AUC: 0.7361559139784944\n",
      "[[25.75  5.25]\n",
      " [ 2.    3.75]]\n",
      "precision: 0.4166666666666667\n",
      "recall: 0.6521739130434783\n",
      "f1: 0.5084745762711865\n"
     ]
    }
   ],
   "source": [
    "n = 0\n",
    "accuracy = []\n",
    "a = 0.5\n",
    "roc = []\n",
    "matrix = []\n",
    "\n",
    "print(\"~~~~ CROSS VALIDATION each fold ~~~~\")\n",
    "for train_index, test_index in kf.split(X_train, y_train):\n",
    "    \n",
    "    lr = LogisticRegression(solver = 'lbfgs' , max_iter = 10000, class_weight='balanced' , C =0.45).fit(X_train.iloc[train_index], y_train.iloc[train_index])\n",
    "    \n",
    "    prediction = lr.predict(X_train.iloc[test_index])\n",
    "    actual = y_train.iloc[test_index]\n",
    "    accuracy.append(np.mean(y_train.iloc[test_index] == lr.predict(X_train.iloc[test_index])))\n",
    "    lr_pred_proba = lr.predict_proba(X_train.iloc[test_index])[:,1]\n",
    "    matrix.append(metrics.confusion_matrix(y_true=y_train.iloc[test_index], y_pred=lr_pred_proba > a))\n",
    "    roc.append(metrics.roc_auc_score(y_true=y_train.iloc[test_index], y_score=lr_pred_proba> a))\n",
    "    \n",
    "    n += 1\n",
    "    \n",
    "    print('Model {}'.format(n))\n",
    "    print('Accuracy: {}' .format(accuracy[n-1]))\n",
    "    print(prediction)\n",
    "    print((matrix[n-1]))\n",
    "    #print(lr_pred_proba)\n",
    "    print('ROC AUC: {}'.format(roc[n-1]))\n",
    "    print('~~~~~~~~~~~~~~~~~~~~~~~~~~~~~~~~~~~~~~~~~~')\n",
    "    \n",
    "\n",
    "\n",
    "print(\"~~~~ SUMMARY OF CROSS VALIDATION ~~~~\")\n",
    "print('Mean of accuracy for all folds : {} '.format(np.mean(accuracy)))\n",
    "print('Mean of ROC AUC: {}'.format(np.mean(roc)))\n",
    "d =(np.sum(matrix,0))/4\n",
    "print(d)\n",
    "ps = (d[1,1]/(d[1,1]+d[0,1]))\n",
    "rs = (d[1,1]/(d[1,1]+d[1,0]))\n",
    "f = 2*(ps*rs) / (ps+rs)\n",
    "print(\"precision:\" , ps)\n",
    "print('recall:' , rs)\n",
    "print('f1:',f)"
   ]
  },
  {
   "cell_type": "code",
   "execution_count": 52,
   "metadata": {},
   "outputs": [],
   "source": [
    "from sklearn.ensemble import RandomForestClassifier"
   ]
  },
  {
   "cell_type": "code",
   "execution_count": 53,
   "metadata": {},
   "outputs": [
    {
     "data": {
      "text/plain": [
       "Index(['Year', 'Ceremony', 'Winner', 'Name', 'ID', 'Runtime', 'IMDB_Rating',\n",
       "       'Genre', 'MPAA_Rating', 'Release_Month', 'Pre_Nom_Gross', 'Studio',\n",
       "       'Total_nominations', 'Director', 'Action', 'Adventure', 'Animation',\n",
       "       'Biography', 'Comedy', 'Crime', 'Drama', 'Family', 'Fantasy', 'History',\n",
       "       'Horror', 'Music', 'Musical', 'Mystery', 'Romance', 'Sci-Fi', 'Sport',\n",
       "       'Thriller', 'War', 'Western', 'MPAA_ PG', 'MPAA_ PG-13', 'MPAA_ R',\n",
       "       'studio_ A24 ', 'studio_ Annapurna ', 'studio_ BV ', 'studio_ Col. ',\n",
       "       'studio_ DW ', 'studio_ FL ', 'studio_ Focus ', 'studio_ Fox ',\n",
       "       'studio_ FoxS ', 'studio_ Gram. ', 'studio_ IFC ', 'studio_ LG/S ',\n",
       "       'studio_ LGF ', 'studio_ Lions ', 'studio_ Mira. ', 'studio_ NL ',\n",
       "       'studio_ Netflix ', 'studio_ ORF ', 'studio_ Oct. ', 'studio_ Orion ',\n",
       "       'studio_ Par. ', 'studio_ ParV ', 'studio_ RAtt. ', 'studio_ SPC ',\n",
       "       'studio_ Sony ', 'studio_ Sum. ', 'studio_ TriS ', 'studio_ USA ',\n",
       "       'studio_ Uni. ', 'studio_ WB ', 'studio_ WIP ', 'studio_ Wein. ',\n",
       "       'release_nom'],\n",
       "      dtype='object')"
      ]
     },
     "execution_count": 53,
     "metadata": {},
     "output_type": "execute_result"
    }
   ],
   "source": [
    "oscars.columns"
   ]
  },
  {
   "cell_type": "code",
   "execution_count": 54,
   "metadata": {},
   "outputs": [],
   "source": [
    "feature_cols =['Runtime', 'IMDB_Rating','Pre_Nom_Gross','Total_nominations','Action', 'Adventure', 'Animation','Biography', 'Comedy', 'Crime', 'Drama', 'Family', 'Fantasy', 'History','Horror', 'Music', 'Musical', 'Mystery', 'Romance', 'Sci-Fi', 'Sport','Thriller', 'War', 'Western', 'MPAA_ PG', 'MPAA_ PG-13', 'MPAA_ R','studio_ A24 ', 'studio_ Annapurna ', 'studio_ BV ', 'studio_ Col. ','studio_ DW ', 'studio_ FL ', 'studio_ Focus ', 'studio_ Fox ','studio_ FoxS ', 'studio_ Gram. ', 'studio_ IFC ', 'studio_ LG/S ','studio_ LGF ', 'studio_ Lions ', 'studio_ Mira. ', 'studio_ NL ','studio_ Netflix ', 'studio_ ORF ', 'studio_ Oct. ', 'studio_ Orion ','studio_ Par. ', 'studio_ ParV ', 'studio_ RAtt. ', 'studio_ SPC ','studio_ Sony ', 'studio_ Sum. ', 'studio_ TriS ', 'studio_ USA ','studio_ Uni. ', 'studio_ WB ', 'studio_ WIP ', 'studio_ Wein. ' , 'release_nom']"
   ]
  },
  {
   "cell_type": "code",
   "execution_count": 55,
   "metadata": {},
   "outputs": [],
   "source": [
    "X = oscars[feature_cols]\n",
    "y = oscars.Winner"
   ]
  },
  {
   "cell_type": "code",
   "execution_count": 56,
   "metadata": {},
   "outputs": [],
   "source": [
    "X_train, X_test, y_train, y_test = train_test_split(X, y, random_state=1 , stratify =y, test_size = 0.2)"
   ]
  },
  {
   "cell_type": "code",
   "execution_count": 57,
   "metadata": {},
   "outputs": [],
   "source": [
    "kf = model_selection.StratifiedKFold(n_splits=4, shuffle=True ,random_state =2)"
   ]
  },
  {
   "cell_type": "code",
   "execution_count": 58,
   "metadata": {
    "scrolled": false
   },
   "outputs": [
    {
     "name": "stdout",
     "output_type": "stream",
     "text": [
      "~~~~ CROSS VALIDATION each fold ~~~~\n",
      "Model 1\n",
      "Accuracy: 0.8108108108108109\n",
      "[0 1 0 0 0 0 0 0 0 0 0 0 0 0 0 0 0 0 0 0 0 0 0 0 0 0 0 0 0 1 1 0 0 0 0 0 0]\n",
      "[[29  2]\n",
      " [ 5  1]]\n",
      "ROC AUC: 0.5510752688172044\n",
      "~~~~~~~~~~~~~~~~~~~~~~~~~~~~~~~~~~~~~~~~~~\n",
      "Model 2\n",
      "Accuracy: 0.8918918918918919\n",
      "[0 0 0 0 0 0 0 0 1 0 0 0 0 0 0 0 1 0 0 0 0 0 0 0 0 0 0 0 0 0 0 0 0 0 0 0 0]\n",
      "[[31  0]\n",
      " [ 4  2]]\n",
      "ROC AUC: 0.6666666666666666\n",
      "~~~~~~~~~~~~~~~~~~~~~~~~~~~~~~~~~~~~~~~~~~\n",
      "Model 3\n",
      "Accuracy: 0.8378378378378378\n",
      "[0 0 0 0 0 0 0 0 0 0 0 0 0 1 0 0 0 1 0 0 1 0 0 1 0 0 0 0 0 0 0 0 0 0 0 0 0]\n",
      "[[29  2]\n",
      " [ 4  2]]\n",
      "ROC AUC: 0.6344086021505376\n",
      "~~~~~~~~~~~~~~~~~~~~~~~~~~~~~~~~~~~~~~~~~~\n",
      "Model 4\n",
      "Accuracy: 0.8055555555555556\n",
      "[0 0 1 0 0 0 0 0 0 0 0 0 0 0 0 0 0 0 0 0 1 0 0 0 0 0 0 0 0 0 0 0 0 0 0 0]\n",
      "[[29  2]\n",
      " [ 5  0]]\n",
      "ROC AUC: 0.467741935483871\n",
      "~~~~~~~~~~~~~~~~~~~~~~~~~~~~~~~~~~~~~~~~~~\n",
      "~~~~ SUMMARY OF CROSS VALIDATION ~~~~\n",
      "Mean of accuracy for all folds : 0.8365240240240239 \n",
      "Mean of ROC AUC: 0.5799731182795699\n",
      "[[29.5   1.5 ]\n",
      " [ 4.5   1.25]]\n",
      "precision: 0.45454545454545453\n",
      "recall: 0.21739130434782608\n",
      "f1: 0.29411764705882354\n"
     ]
    }
   ],
   "source": [
    "n = 0\n",
    "accuracy = []\n",
    "a = 0.50\n",
    "roc = []\n",
    "matrix = []\n",
    "\n",
    "\n",
    "print(\"~~~~ CROSS VALIDATION each fold ~~~~\")\n",
    "for train_index, test_index in kf.split(X_train, y_train):\n",
    "    rfc = RandomForestClassifier(n_estimators = 180 ,random_state=1, class_weight='balanced',max_depth = 5,oob_score=True).fit(X_train.iloc[train_index], y_train.iloc[train_index])\n",
    "    \n",
    "    prediction = rfc.predict(X_train.iloc[test_index])\n",
    "    actual = y_train.iloc[test_index]\n",
    "    accuracy.append(np.mean(y_train.iloc[test_index] == rfc.predict(X_train.iloc[test_index])))\n",
    "    rfc_pred_proba = rfc.predict_proba(X_train.iloc[test_index])[:,1]\n",
    "    matrix.append(metrics.confusion_matrix(y_true=y_train.iloc[test_index], y_pred=rfc_pred_proba > a))\n",
    "    roc.append(metrics.roc_auc_score(y_true=y_train.iloc[test_index], y_score=rfc_pred_proba> a))\n",
    "    \n",
    "    n += 1\n",
    "    \n",
    "    \n",
    "    print('Model {}'.format(n))\n",
    "    print('Accuracy: {}' .format(accuracy[n-1]))\n",
    "    print(prediction)\n",
    "    print((matrix[n-1]))\n",
    "    #print(lr_pred_proba)\n",
    "    print('ROC AUC: {}'.format(roc[n-1]))\n",
    "    print('~~~~~~~~~~~~~~~~~~~~~~~~~~~~~~~~~~~~~~~~~~')\n",
    "\n",
    "print(\"~~~~ SUMMARY OF CROSS VALIDATION ~~~~\")\n",
    "print('Mean of accuracy for all folds : {} '.format(np.mean(accuracy)))\n",
    "print('Mean of ROC AUC: {}'.format(np.mean(roc)))\n",
    "d =(np.sum(matrix,0))/4\n",
    "print(d)\n",
    "ps = (d[1,1]/(d[1,1]+d[0,1]))\n",
    "rs = (d[1,1]/(d[1,1]+d[1,0]))\n",
    "f = 2*(ps*rs) / (ps+rs)\n",
    "print(\"precision:\" , ps)\n",
    "print('recall:' , rs)\n",
    "print('f1:',f)"
   ]
  },
  {
   "cell_type": "code",
   "execution_count": 59,
   "metadata": {},
   "outputs": [],
   "source": [
    "feature_cols =['Action', 'Adventure', 'Animation','Biography', 'Comedy', 'Crime', 'Drama', 'Family', 'Fantasy', 'History','Horror', 'Music', 'Musical', 'Mystery', 'Romance', 'Sci-Fi', 'Sport','Thriller', 'War', 'Western', 'MPAA_ PG', 'MPAA_ PG-13', 'MPAA_ R','studio_ A24 ', 'studio_ Annapurna ', 'studio_ BV ', 'studio_ Col. ','studio_ DW ', 'studio_ FL ', 'studio_ Focus ', 'studio_ Fox ','studio_ FoxS ', 'studio_ Gram. ', 'studio_ IFC ', 'studio_ LG/S ','studio_ LGF ', 'studio_ Lions ', 'studio_ Mira. ', 'studio_ NL ','studio_ Netflix ', 'studio_ ORF ', 'studio_ Oct. ', 'studio_ Orion ','studio_ Par. ', 'studio_ ParV ', 'studio_ RAtt. ', 'studio_ SPC ','studio_ Sony ', 'studio_ Sum. ', 'studio_ TriS ', 'studio_ USA ','studio_ Uni. ', 'studio_ WB ', 'studio_ WIP ', 'studio_ Wein. ' , 'release_nom' , 'Total_nominations']\n",
    "X = oscars[feature_cols]\n",
    "y = oscars.Winner\n"
   ]
  },
  {
   "cell_type": "code",
   "execution_count": 60,
   "metadata": {},
   "outputs": [],
   "source": [
    "X_train, X_test, y_train, y_test = train_test_split(X, y, random_state=1 , stratify =y, test_size = 0.2)"
   ]
  },
  {
   "cell_type": "code",
   "execution_count": 61,
   "metadata": {},
   "outputs": [
    {
     "name": "stdout",
     "output_type": "stream",
     "text": [
      "Accuracy: 0.7297297297297297\n",
      "[0 1 0 0 0 1 0 1 1 0 1 0 0 0 0 1 0 0 1 0 1 0 1 0 1 0 0 0 0 0 0 0 0 0 1 1 0]\n",
      "[[23  8]\n",
      " [ 2  4]]\n",
      "ROC AUC: 0.7043010752688172\n",
      "precision: 0.3333333333333333\n",
      "recall: 0.6666666666666666\n",
      "f1: 0.4444444444444444\n"
     ]
    }
   ],
   "source": [
    "a = 0.5\n",
    "prediction = lr.predict(X_test)\n",
    "actual = y_test\n",
    "accuracy = (np.mean(y_test == lr.predict(X_test)))\n",
    "lr_pred_proba = lr.predict_proba(X_test)[:,1]\n",
    "matrix = metrics.confusion_matrix(y_true=y_test, y_pred=lr_pred_proba > a)\n",
    "roc = (metrics.roc_auc_score(y_true=y_test, y_score=lr_pred_proba> a))\n",
    "\n",
    "d = matrix \n",
    "ps = (d[1,1]/(d[1,1]+d[0,1]))\n",
    "rs = (d[1,1]/(d[1,1]+d[1,0]))\n",
    "f = 2*(ps*rs) / (ps+rs)\n",
    "\n",
    "print(\"Accuracy:\" , accuracy)\n",
    "print(prediction)\n",
    "print(matrix)\n",
    "print(\"ROC AUC:\" , roc)\n",
    "print(\"precision:\" , ps)\n",
    "print('recall:' , rs)\n",
    "print('f1:',f)\n"
   ]
  },
  {
   "cell_type": "code",
   "execution_count": 62,
   "metadata": {},
   "outputs": [],
   "source": [
    "oscars_n = pd.read_csv('2019.csv')\n",
    "oscars_n.drop(oscars_n.columns[0], axis=1, inplace=True)\n",
    "X = oscars_n"
   ]
  },
  {
   "cell_type": "code",
   "execution_count": 63,
   "metadata": {},
   "outputs": [
    {
     "name": "stdout",
     "output_type": "stream",
     "text": [
      "[1 0 0 0 0]\n",
      "[0.65028227 0.15194844 0.11338022 0.01929432 0.01708671]\n"
     ]
    }
   ],
   "source": [
    "\n",
    "prediction = lr.predict(X)\n",
    "lr_pred_proba = lr.predict_proba(X)[:,1]\n",
    "\n",
    "print(prediction)\n",
    "print(lr_pred_proba)\n"
   ]
  },
  {
   "cell_type": "code",
   "execution_count": null,
   "metadata": {},
   "outputs": [],
   "source": []
  }
 ],
 "metadata": {
  "kernelspec": {
   "display_name": "Python 3",
   "language": "python",
   "name": "python3"
  },
  "language_info": {
   "codemirror_mode": {
    "name": "ipython",
    "version": 3
   },
   "file_extension": ".py",
   "mimetype": "text/x-python",
   "name": "python",
   "nbconvert_exporter": "python",
   "pygments_lexer": "ipython3",
   "version": "3.7.2"
  }
 },
 "nbformat": 4,
 "nbformat_minor": 2
}
